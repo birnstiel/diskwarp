{
 "cells": [
  {
   "cell_type": "markdown",
   "id": "19709038-e9f9-40d0-b4e2-d35fbddf63de",
   "metadata": {},
   "source": [
    "# Warp a disk"
   ]
  },
  {
   "cell_type": "code",
   "execution_count": null,
   "id": "8608f872-faf4-4c97-8c8a-dd8b115aef01",
   "metadata": {},
   "outputs": [],
   "source": [
    "import matplotlib.pyplot as plt\n",
    "from matplotlib.colors import Normalize\n",
    "import numpy as np\n",
    "%matplotlib widget"
   ]
  },
  {
   "cell_type": "markdown",
   "id": "3ad33da5",
   "metadata": {},
   "source": [
    "## General Definitions of disk surface and warp parameters"
   ]
  },
  {
   "cell_type": "markdown",
   "id": "b032d349-c2c9-4123-8197-dd185d778566",
   "metadata": {},
   "source": [
    "Define surface:\n",
    "\n",
    "$z = h_1 \\, r^{1+hr\\_index}$"
   ]
  },
  {
   "cell_type": "code",
   "execution_count": null,
   "id": "419afaab-53c5-418c-9149-a2eb087d4372",
   "metadata": {},
   "outputs": [],
   "source": [
    "h1 = 0.05\n",
    "hr_index = 0.25"
   ]
  },
  {
   "cell_type": "markdown",
   "id": "5876ff2e-9856-4c59-b11d-f0e8a7f5d518",
   "metadata": {},
   "source": [
    "Define the warp (inclination for each ring): logistic function from $i=0$ outside transitioning to `warp_max` at radius `r0` over a transition width of `dr`."
   ]
  },
  {
   "cell_type": "code",
   "execution_count": null,
   "id": "ad053806-9b3d-41de-9d1f-2ef331a79677",
   "metadata": {},
   "outputs": [],
   "source": [
    "warp_max = np.pi / 6\n",
    "dr = 0.1\n",
    "r0 = 1"
   ]
  },
  {
   "cell_type": "markdown",
   "id": "47bc63f3-59eb-4bd5-acc8-73952faee350",
   "metadata": {},
   "source": [
    "Calculate the interfaces and cell centers of the disk surface"
   ]
  },
  {
   "cell_type": "code",
   "execution_count": null,
   "id": "d996628d-8416-421a-84a8-18665e0814fd",
   "metadata": {},
   "outputs": [],
   "source": [
    "nphi = 50 # number of points along azimuth\n",
    "nr  = 20  # number of rings\n",
    "\n",
    "# define cylindrical radius, azimuthal angle, and height above mid plane\n",
    "r   = np.ones([nr, nphi]) * np.linspace(.2, 2, nr)[:, None]\n",
    "phi = np.ones([nr, nphi]) * np.linspace(0, 2 * np.pi, nphi)\n",
    "z   = h1 * r**(1 + hr_index)\n",
    "\n",
    "# define centers as well\n",
    "rc   = 0.5 * (r[1:, 1:] + r[:-1, 1:])\n",
    "zc   = h1 * rc**(1 + hr_index)\n",
    "phic = 0.5 * (phi[1:, 1:] + phi[1:, :-1])\n",
    "\n",
    "# convert to cartesian (x, y = edges, xc, yc = centers)\n",
    "\n",
    "x   = r * np.cos(phi)\n",
    "y   = r * np.sin(phi)\n",
    "\n",
    "xc   = rc * np.cos(phic)\n",
    "yc   = rc * np.sin(phic)"
   ]
  },
  {
   "cell_type": "code",
   "execution_count": null,
   "id": "0e644caf",
   "metadata": {},
   "outputs": [],
   "source": [
    "# calculate warp inclinations\n",
    "warp   = warp_max / (1.0 + np.exp((r[:, 0] - r0) / dr))\n",
    "warp_c = 0.5 * (warp[1:] + warp[:-1])"
   ]
  },
  {
   "cell_type": "markdown",
   "id": "452d48bd",
   "metadata": {},
   "source": [
    "Making an array of the coordinates that is `(nr, nphi, 3)`"
   ]
  },
  {
   "cell_type": "code",
   "execution_count": null,
   "id": "65fa80da",
   "metadata": {},
   "outputs": [],
   "source": [
    "points = np.moveaxis([x, y, z], 0, 2)\n",
    "points_c = np.moveaxis([xc, yc, zc], 0, 2)"
   ]
  },
  {
   "cell_type": "markdown",
   "id": "b2b2b108-be60-4c76-bab3-edbcd194136f",
   "metadata": {},
   "source": [
    "Calculate the velocities of all centers"
   ]
  },
  {
   "cell_type": "code",
   "execution_count": null,
   "id": "4210f0e9-eae0-478d-a089-fc0b882198c8",
   "metadata": {},
   "outputs": [],
   "source": [
    "v = (rc**2 + zc**2)**-0.25\n",
    "v = v[None, :, :] * np.array([-np.sin(phic), np.cos(phic), np.zeros_like(phic)])\n",
    "v = np.moveaxis(v, 0, 2)"
   ]
  },
  {
   "cell_type": "markdown",
   "id": "47509482-b360-44a9-a669-971fa03f9717",
   "metadata": {},
   "source": [
    "Define each radius' twist"
   ]
  },
  {
   "cell_type": "code",
   "execution_count": null,
   "id": "6f303e2d-2d17-4327-b3ee-87f2c3386d9c",
   "metadata": {},
   "outputs": [],
   "source": [
    "twist_0 = -np.pi * 3 / 4 # this is the general rotation of the entire disk around the original axis\n",
    "twist = np.linspace(0, 20, nr) * np.pi / 180. + twist_0\n",
    "twist_c = 0.5 * (twist[1:] + twist[:-1]) # twist of the cell centers"
   ]
  },
  {
   "cell_type": "markdown",
   "id": "3a788ce2",
   "metadata": {},
   "source": [
    "define the inclination of the observer as rotation around x"
   ]
  },
  {
   "cell_type": "code",
   "execution_count": null,
   "id": "9d77f27e",
   "metadata": {},
   "outputs": [],
   "source": [
    "inc_obs = 0 * np.pi / 4\n",
    "PA_obs = 0"
   ]
  },
  {
   "cell_type": "markdown",
   "id": "3faac3ee",
   "metadata": {},
   "source": [
    "## Step-by-step process\n",
    "\n",
    "Here we do things step by step in the notebook. Below is using the functions inside `helper`."
   ]
  },
  {
   "cell_type": "markdown",
   "id": "d10460b2-7004-462f-bae0-5869ce703dde",
   "metadata": {},
   "source": [
    "Define the rotation matrices"
   ]
  },
  {
   "cell_type": "code",
   "execution_count": null,
   "id": "3487179b",
   "metadata": {},
   "outputs": [],
   "source": [
    "import helper\n",
    "Rx = helper.Rx\n",
    "Ry = helper.Ry\n",
    "Rz = helper.Rz"
   ]
  },
  {
   "cell_type": "markdown",
   "id": "e8ab74e4-4f17-4fb1-86c5-e32205240939",
   "metadata": {},
   "source": [
    "apply the ring inclination"
   ]
  },
  {
   "cell_type": "code",
   "execution_count": null,
   "id": "e7484e6b-db7c-490d-91f3-cc04a8aeefb3",
   "metadata": {},
   "outputs": [],
   "source": [
    "points1 = np.einsum('ijk,klj->kli', Ry(warp), points)\n",
    "points1_c = np.einsum('ijk,klj->kli', Ry(warp_c), points_c)\n",
    "v1 = np.einsum('ijk,klj->kli', Ry(warp_c), v)"
   ]
  },
  {
   "cell_type": "markdown",
   "id": "8e793e69-b078-4ab1-96d7-15f8bd3d54e5",
   "metadata": {},
   "source": [
    "apply the twist"
   ]
  },
  {
   "cell_type": "code",
   "execution_count": null,
   "id": "d973b8a9-1af3-4aff-a991-ba3d0bbd1bed",
   "metadata": {},
   "outputs": [],
   "source": [
    "points2 = np.einsum('ijk,klj->kli', Rz(twist), points1)\n",
    "points2_c = np.einsum('ijk,klj->kli', Rz(twist_c), points1_c)\n",
    "v2 = np.einsum('ijk,klj->kli', Rz(twist_c), v1)"
   ]
  },
  {
   "cell_type": "markdown",
   "id": "0023a49d-70f8-4f69-b8ea-a3b243796d1c",
   "metadata": {},
   "source": [
    "#### 3D Plot of original and new rings"
   ]
  },
  {
   "cell_type": "code",
   "execution_count": null,
   "id": "b31e0023-c39a-4da7-b770-94ee1d6f3a4b",
   "metadata": {},
   "outputs": [],
   "source": [
    "with plt.rc_context({'lines.linewidth': 1}):\n",
    "    fig = plt.figure(figsize=(6, 6))\n",
    "    ax = fig.add_subplot(projection='3d')\n",
    "\n",
    "    #ax.plot(x, y, z)\n",
    "\n",
    "    for i, _points in enumerate([points2]):\n",
    "\n",
    "        for ir in range(nr):\n",
    "            _x, _y, _z = _points[ir].T\n",
    "            ax.plot(_x, _y, _z, c=f'C{i}')\n",
    "\n",
    "        for iphi in range(nphi):\n",
    "            _x, _y, _z = _points[:, iphi, :].T\n",
    "            ax.plot(_x, _y, _z, c=f'C{i}')\n",
    "            \n",
    "    for iphi in range(nphi - 1):\n",
    "        _x, _y, _z = points2_c[:, iphi, :].T\n",
    "        ax.plot(_x, _y, _z, ls='none', marker='.', mfc='k', mec='none', markersize=1.5)\n",
    "    \n",
    "    # vectors\n",
    "    scale = 0.05\n",
    "    arr = np.array([points2_c, points2_c + scale * v2])\n",
    "    for ir in range(nr - 1):\n",
    "        for iphi in range(nphi - 1):\n",
    "            _x, _y, _z =  arr[:, ir, iphi, :].T\n",
    "            ax.plot(_x, _y, _z, 'r-')\n",
    "    \n",
    "    ax.set_xlabel('X')\n",
    "    ax.set_ylabel('Y')\n",
    "    ax.set_zlabel('Z')\n",
    "    ax.set_zlim([-2, 2])\n",
    "    ax.axis('off')"
   ]
  },
  {
   "cell_type": "markdown",
   "id": "0793008e-49f9-4890-9f20-34265063b43e",
   "metadata": {},
   "source": [
    "### Observer Projection"
   ]
  },
  {
   "cell_type": "markdown",
   "id": "7f8132ef-4d98-4230-9a21-6d5059afd754",
   "metadata": {},
   "source": [
    "Default observer is face on, so image plane normal would be (0,0,-1). And the base vectors are\n",
    "$$\n",
    "\\vec e_x = \\pmatrix{1\\\\0\\\\0},\n",
    "\\vec e_y = \\pmatrix{0\\\\1\\\\0}, \n",
    "\\vec e_z = \\pmatrix{0\\\\0\\\\-1}\\\\\n",
    "$$"
   ]
  },
  {
   "cell_type": "code",
   "execution_count": null,
   "id": "f1665974-993b-4e20-9909-7c09d3665f59",
   "metadata": {},
   "outputs": [],
   "source": [
    "ex = (1, 0, 0)\n",
    "ey = (0, 1, 0)\n",
    "ez = (0, 0, -1)\n",
    "\n",
    "base = np.array([ex, ey, ez])"
   ]
  },
  {
   "cell_type": "markdown",
   "id": "967803fd",
   "metadata": {},
   "source": [
    "rotate the base"
   ]
  },
  {
   "cell_type": "code",
   "execution_count": null,
   "id": "3d67b5b8-66c2-4f9d-a4b6-bff50736f33f",
   "metadata": {},
   "outputs": [],
   "source": [
    "R_inc = Rx(inc_obs)\n",
    "R_PA = Rz(PA_obs)\n",
    "\n",
    "base2 = R_inc[:, :, 0].dot(R_PA[:, :, 0].dot(base))"
   ]
  },
  {
   "cell_type": "markdown",
   "id": "d4ad2e61-7643-4845-9291-fbb364393a32",
   "metadata": {},
   "source": [
    "project the points"
   ]
  },
  {
   "cell_type": "code",
   "execution_count": null,
   "id": "e8d1b955-0ea0-47b3-82a5-6169b87fbfc1",
   "metadata": {},
   "outputs": [],
   "source": [
    "points3 = np.einsum('ijk,kl->ijl', points2, base2)\n",
    "points3_c = np.einsum('ijk,kl->ijl', points2_c, base2)\n",
    "v3 =  np.einsum('ijk,kl->ijl', v2, base2)"
   ]
  },
  {
   "cell_type": "markdown",
   "id": "ff225a37",
   "metadata": {},
   "source": [
    "#### 2D plot of projected points"
   ]
  },
  {
   "cell_type": "code",
   "execution_count": null,
   "id": "30036444-1cea-47a0-8892-b44c9aa7ff7d",
   "metadata": {},
   "outputs": [],
   "source": [
    "with plt.rc_context({'lines.linewidth': .5}):\n",
    "    f, ax = plt.subplots(figsize=(5, 5), dpi=150)\n",
    "    ax.set_aspect('equal')\n",
    "    ax.axis('off')\n",
    "    ax.set_xlim(-2, 2)\n",
    "    ax.set_ylim(-2, 2)\n",
    "\n",
    "    for ir in range(nr):\n",
    "        _x, _y, _z = points3[ir].T\n",
    "        ax.plot(_x, _y, c='C0')\n",
    "\n",
    "    for iphi in range(nphi):\n",
    "        _x, _y, _z = points3[:, iphi, :].T\n",
    "        ax.plot(_x, _y, c='C0')\n",
    "\n",
    "    for iphi in range(nphi - 1):\n",
    "        _x, _y, _z = points3_c[:, iphi, :].T\n",
    "        ax.plot(_x, _y, ls='none', marker='.', mfc='k', mec='none', markersize=1.5)\n",
    "\n",
    "    # plot the vectors: z is used as color\n",
    "    scale = 0.05\n",
    "    arr = np.array([points3_c, points3_c + scale * v3])\n",
    "    col = Normalize()(v3[:, :, -1]) \n",
    "    cmap = plt.cm.RdBu_r\n",
    "    \n",
    "    for ir in range(nr - 1):\n",
    "        for iphi in range(nphi - 1):\n",
    "            _x, _y, _z =  arr[:, ir, iphi, :].T\n",
    "            ax.plot(_x, _y, color=cmap(col[ir, iphi]), lw=2)"
   ]
  },
  {
   "cell_type": "code",
   "execution_count": null,
   "id": "e4a59515-0a04-4904-87dd-b5b687be1fd6",
   "metadata": {},
   "outputs": [],
   "source": [
    "plt.close('all')"
   ]
  }
 ],
 "metadata": {
  "kernelspec": {
   "display_name": "Python 3 (ipykernel)",
   "language": "python",
   "name": "python3"
  },
  "language_info": {
   "codemirror_mode": {
    "name": "ipython",
    "version": 3
   },
   "file_extension": ".py",
   "mimetype": "text/x-python",
   "name": "python",
   "nbconvert_exporter": "python",
   "pygments_lexer": "ipython3",
   "version": "3.8.12"
  }
 },
 "nbformat": 4,
 "nbformat_minor": 5
}
