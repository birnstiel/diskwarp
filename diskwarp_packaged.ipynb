{
 "cells": [
  {
   "cell_type": "markdown",
   "id": "19709038-e9f9-40d0-b4e2-d35fbddf63de",
   "metadata": {},
   "source": [
    "# Warp a disk"
   ]
  },
  {
   "cell_type": "code",
   "execution_count": null,
   "id": "8608f872-faf4-4c97-8c8a-dd8b115aef01",
   "metadata": {},
   "outputs": [],
   "source": [
    "import matplotlib.pyplot as plt\n",
    "from matplotlib.colors import Normalize\n",
    "import numpy as np\n",
    "%matplotlib widget"
   ]
  },
  {
   "cell_type": "code",
   "execution_count": null,
   "id": "4980f544",
   "metadata": {},
   "outputs": [],
   "source": [
    "from importlib import reload\n",
    "import helper\n",
    "reload(helper)"
   ]
  },
  {
   "cell_type": "markdown",
   "id": "3ad33da5",
   "metadata": {},
   "source": [
    "## General Definitions of disk surface and warp parameters"
   ]
  },
  {
   "cell_type": "markdown",
   "id": "b032d349-c2c9-4123-8197-dd185d778566",
   "metadata": {},
   "source": [
    "Define surface:\n",
    "\n",
    "$z = h_1 \\, r^{1+hr\\_index}$"
   ]
  },
  {
   "cell_type": "code",
   "execution_count": null,
   "id": "419afaab-53c5-418c-9149-a2eb087d4372",
   "metadata": {},
   "outputs": [],
   "source": [
    "h1 = 0.05\n",
    "hr_index = 0.25"
   ]
  },
  {
   "cell_type": "markdown",
   "id": "b46e51b4",
   "metadata": {},
   "source": [
    "Calculate the interfaces and cell centers of the disk surface"
   ]
  },
  {
   "cell_type": "code",
   "execution_count": null,
   "id": "a29ad2cd",
   "metadata": {},
   "outputs": [],
   "source": [
    "surf = helper.get_surface(h1=h1, hr_index=hr_index)\n",
    "points = surf['points']\n",
    "points_c = surf['points_c']\n",
    "r = surf['r']\n",
    "phic = surf['phic']\n",
    "nr, nphi = points.shape[:-1]"
   ]
  },
  {
   "cell_type": "markdown",
   "id": "5876ff2e-9856-4c59-b11d-f0e8a7f5d518",
   "metadata": {},
   "source": [
    "Define the warp (inclination for each ring): logistic function from $i=0$ outside transitioning to `warp_max` at radius `r0` over a transition width of `dr`."
   ]
  },
  {
   "cell_type": "code",
   "execution_count": null,
   "id": "ad053806-9b3d-41de-9d1f-2ef331a79677",
   "metadata": {},
   "outputs": [],
   "source": [
    "warp_max = np.pi / 6\n",
    "dr = 0.1\n",
    "r0 = 1"
   ]
  },
  {
   "cell_type": "code",
   "execution_count": null,
   "id": "0e644caf",
   "metadata": {},
   "outputs": [],
   "source": [
    "# calculate warp inclinations\n",
    "warp   = warp_max / (1.0 + np.exp((r[:, 0] - r0) / dr))\n",
    "warp_c = 0.5 * (warp[1:] + warp[:-1])"
   ]
  },
  {
   "cell_type": "markdown",
   "id": "b2b2b108-be60-4c76-bab3-edbcd194136f",
   "metadata": {},
   "source": [
    "Calculate the velocities of all centers"
   ]
  },
  {
   "cell_type": "code",
   "execution_count": null,
   "id": "b6d845b9",
   "metadata": {},
   "outputs": [],
   "source": [
    "v = (points_c[:, :, 0]**2 + points_c[:, :, 1]**2)**-0.25\n",
    "v = v[None, :, :] * np.array([-np.sin(phic), np.cos(phic), np.zeros_like(phic)])\n",
    "v = np.moveaxis(v, 0, 2)"
   ]
  },
  {
   "cell_type": "markdown",
   "id": "47509482-b360-44a9-a669-971fa03f9717",
   "metadata": {},
   "source": [
    "Define each radius' twist"
   ]
  },
  {
   "cell_type": "code",
   "execution_count": null,
   "id": "6f303e2d-2d17-4327-b3ee-87f2c3386d9c",
   "metadata": {},
   "outputs": [],
   "source": [
    "twist_0 = -np.pi * 3 / 4 # this is the general rotation of the entire disk around the original axis\n",
    "twist = np.linspace(0, 20, nr) * np.pi / 180. + twist_0\n",
    "twist_c = 0.5 * (twist[1:] + twist[:-1]) # twist of the cell centers"
   ]
  },
  {
   "cell_type": "markdown",
   "id": "3a788ce2",
   "metadata": {},
   "source": [
    "define the inclination of the observer as rotation around x"
   ]
  },
  {
   "cell_type": "code",
   "execution_count": null,
   "id": "4c88aa46",
   "metadata": {},
   "outputs": [],
   "source": [
    "inc_obs = 65 / 180 * np.pi\n",
    "PA_obs = 0 / 180 * np.pi"
   ]
  },
  {
   "cell_type": "code",
   "execution_count": null,
   "id": "e1f99aa8",
   "metadata": {},
   "outputs": [],
   "source": [
    "points2 = helper.warp(points, warp, twist, inc=inc_obs, PA=PA_obs)\n",
    "points2_c = helper.warp(points_c, warp_c, twist_c, inc=inc_obs, PA=PA_obs)\n",
    "v2 = helper.warp(v, warp_c, twist_c, inc=inc_obs, PA=PA_obs)"
   ]
  },
  {
   "cell_type": "code",
   "execution_count": null,
   "id": "1ca1d977",
   "metadata": {},
   "outputs": [],
   "source": [
    "f, ax = plt.subplots(figsize=(8, 8))\n",
    "ax.set_aspect('equal')\n",
    "ax.set_xlim(-2, 2)\n",
    "ax.set_ylim(-2, 2)\n",
    "ax.axis('off')\n",
    "\n",
    "_x, _y, _ = points2.T\n",
    "ax.pcolormesh(_x, _y, Normalize()(v2[:, :, -1]).T, cmap=plt.cm.RdBu_r, ec='k')\n",
    "\n",
    "_x, _y, _ = points2_c.T\n",
    "ax.quiver(_x, _y, v2[:, :, 0].T, v2[:, :, 1].T)"
   ]
  },
  {
   "cell_type": "code",
   "execution_count": null,
   "id": "78196e05",
   "metadata": {},
   "outputs": [],
   "source": [
    "f.savefig('warp.pdf', transparent=True, bbox_inches='tight')"
   ]
  }
 ],
 "metadata": {
  "kernelspec": {
   "display_name": "Python 3 (ipykernel)",
   "language": "python",
   "name": "python3"
  },
  "language_info": {
   "codemirror_mode": {
    "name": "ipython",
    "version": 3
   },
   "file_extension": ".py",
   "mimetype": "text/x-python",
   "name": "python",
   "nbconvert_exporter": "python",
   "pygments_lexer": "ipython3",
   "version": "3.8.12"
  }
 },
 "nbformat": 4,
 "nbformat_minor": 5
}
