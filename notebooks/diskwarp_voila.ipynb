{
 "cells": [
  {
   "cell_type": "code",
   "execution_count": null,
   "id": "826eb241-8fc9-4bcb-a3ee-8440949a1c47",
   "metadata": {},
   "outputs": [],
   "source": [
    "import ipyvolume as ipv\n",
    "\n",
    "\n",
    "import matplotlib.pyplot as plt\n",
    "from matplotlib.colors import Normalize\n",
    "import numpy as np\n",
    "\n",
    "import diskwarp\n",
    "from diskwarp import helper\n",
    "\n",
    "%config InlineBackend.figure_format = 'retina'"
   ]
  },
  {
   "cell_type": "markdown",
   "id": "f3dece45-9e98-493d-92fe-bfaf95178732",
   "metadata": {},
   "source": [
    "## General Definitions of disk surface and warp parameters"
   ]
  },
  {
   "cell_type": "markdown",
   "id": "a01dcf37",
   "metadata": {},
   "source": [
    "### Basic data"
   ]
  },
  {
   "cell_type": "code",
   "execution_count": null,
   "id": "488efc55",
   "metadata": {},
   "outputs": [],
   "source": [
    "# Calculate the interfaces and cell centers of the disk surface\n",
    "\n",
    "r_i = np.linspace(0.1, 150, 201)\n",
    "r_c = 0.5 * (r_i[1:] + r_i[:-1])\n",
    "\n",
    "surf     = helper.get_surface(r_i)\n",
    "p0_i     = surf['points_i']\n",
    "p0_c     = surf['points_c']\n",
    "ri       = surf['ri']\n",
    "rc       = surf['rc']\n",
    "phic     = surf['phic']\n",
    "phii     = surf['phii']\n",
    "nr, nphi = p0_c.shape[:-1]\n",
    "\n",
    "# Calculate the velocities of all centers and edges\n",
    "\n",
    "v0_c = (p0_c[:, :, 0]**2 + p0_c[:, :, 1]**2)**-0.25\n",
    "v0_c = v0_c[None, :, :] * np.array([-np.sin(phic), np.cos(phic), np.zeros_like(phic)])\n",
    "v0_c = np.moveaxis(v0_c, 0, 2)\n",
    "\n",
    "v0_i = (p0_i[:, :, 0]**2 + p0_i[:, :, 1]**2)**-0.25\n",
    "v0_i = v0_i[None, :, :] * np.array([-np.sin(phii), np.cos(phii), np.zeros_like(phii)])\n",
    "v0_i = np.moveaxis(v0_i, 0, 2)"
   ]
  },
  {
   "cell_type": "markdown",
   "id": "fe372eda",
   "metadata": {},
   "source": [
    "### Parameters"
   ]
  },
  {
   "cell_type": "code",
   "execution_count": null,
   "id": "f15dd704",
   "metadata": {},
   "outputs": [],
   "source": [
    "i_warp = 60.0\n",
    "phi_twist = 0.0\n",
    "\n",
    "inc_out = 80.0\n",
    "PA_out  = -45.0"
   ]
  },
  {
   "cell_type": "markdown",
   "id": "04edd3d0",
   "metadata": {},
   "source": [
    "### Function to warp the data"
   ]
  },
  {
   "cell_type": "code",
   "execution_count": null,
   "id": "564a4d99",
   "metadata": {},
   "outputs": [],
   "source": [
    "def warp_data(i_warp, i_out, PA_in, PA_out):\n",
    "    # Define the warp (inclination for each ring): logistic function from $i=0$ outside transitioning to `warp_max` at radius `r0` over a transition width of `dr`.\n",
    "\n",
    "    warp_c = helper.warp(r_c, i_in=i_warp, i_out=i_out)\n",
    "    warp_i = helper.warp(r_i, i_in=i_warp, i_out=i_out)\n",
    "\n",
    "    # Define each radius' twist\n",
    "\n",
    "    twist_i = helper.twist(r_i, PA_in=PA_in, PA_out=PA_out)\n",
    "    twist_c = helper.twist(r_c, PA_in=PA_in, PA_out=PA_out)\n",
    "\n",
    "    #p1_c = diskwarp.fmodule.apply_matrix2d(p0_c, warp_c, twist_c, np.deg2rad(inc_obs), np.deg2rad(PA_obs), np.deg2rad(azi))\n",
    "    #v1_c = diskwarp.fmodule.apply_matrix2d(v0_c, warp_c, twist_c, np.deg2rad(inc_obs), np.deg2rad(PA_obs), np.deg2rad(azi))\n",
    "    p1_i = diskwarp.fmodule.apply_matrix2d(p0_i, warp_i, twist_i)\n",
    "    #v1_i = diskwarp.fmodule.apply_matrix2d(v0_i, warp_i, twist_i, np.deg2rad(inc_obs), np.deg2rad(PA_obs), np.deg2rad(azi))\n",
    "    \n",
    "    return p1_i.T"
   ]
  },
  {
   "cell_type": "markdown",
   "id": "a5a29ee3",
   "metadata": {},
   "source": [
    "### Set colors"
   ]
  },
  {
   "cell_type": "code",
   "execution_count": null,
   "id": "b8e5473a",
   "metadata": {},
   "outputs": [],
   "source": [
    "C = Normalize()(ri[:, :].T)\n",
    "col = plt.cm.RdBu(C)"
   ]
  },
  {
   "cell_type": "markdown",
   "id": "6c1c6176",
   "metadata": {},
   "source": [
    "### Visualize"
   ]
  },
  {
   "cell_type": "code",
   "execution_count": null,
   "id": "c3426769-4eb4-4147-a299-c2284c414ea4",
   "metadata": {},
   "outputs": [],
   "source": [
    "X, Y, Z = warp_data(i_warp, inc_out, phi_twist, PA_out)\n",
    "\n",
    "fig = plt.figure(figsize=(5,5))\n",
    "ax = fig.add_subplot(projection='3d')\n",
    "ax.view_init(90, -90)\n",
    "surf = ax.plot_surface(X, Y, Z, facecolors=col, shade=False, linewidth=0)\n",
    "ax.set_xlim(-r_i[-1], r_i[-1])\n",
    "ax.set_ylim(-r_i[-1], r_i[-1])\n",
    "ax.set_zlim(-r_i[-1], r_i[-1])\n",
    "ax.set_xlabel('x')\n",
    "ax.set_ylabel('y')\n",
    "ax.set_zlabel('z')"
   ]
  },
  {
   "cell_type": "code",
   "execution_count": null,
   "id": "97d95f26",
   "metadata": {},
   "outputs": [],
   "source": [
    "import numpy as np\n",
    "from numpy import pi, sin, cos, radians\n",
    "import ipyvolume as ipv\n",
    "import ipywidgets as widgets\n",
    "\n",
    "\n",
    "class Scene:\n",
    "    def __init__(self, view=(0, 0, 0), hkl=(1,1,1)):\n",
    "        self.view = view\n",
    "        self.figure = ipv.figure()\n",
    "        R = 150.\n",
    "        ipv.xlim(-R, R)\n",
    "        ipv.ylim(-R, R)\n",
    "        ipv.zlim(-R, R)\n",
    "        ipv.style.box_off()\n",
    "        self.xyz = p0_i.T\n",
    "        self.surface = ipv.plot_surface(*self.xyz, color=col)\n",
    "        ipv.show()\n",
    "        self.ui = widgets.interact(\n",
    "            self.update,\n",
    "            i_warp=(-90.,90.),\n",
    "            phi_twist=(-90., 90.),\n",
    "            inc_out=(0.0, 180.0),\n",
    "            PA_out=(-90.0, 90),\n",
    "        )\n",
    "        self.ui.widget.children[0].continuous_update = False\n",
    "        self.ui.widget.children[1].continuous_update = False\n",
    "\n",
    "    def update(self,\n",
    "               i_warp = 60.0,\n",
    "               phi_twist = 0.0,\n",
    "               inc_out = 80.0,\n",
    "               PA_out  = -45.0,\n",
    "              ):\n",
    "        x, y, z = warp_data(i_warp, inc_out, phi_twist, PA_out)\n",
    "        self.surface.x = x.flatten()\n",
    "        self.surface.y = y.flatten()\n",
    "        self.surface.z = z.flatten()\n",
    "\n",
    "scene = Scene()"
   ]
  }
 ],
 "metadata": {
  "kernelspec": {
   "display_name": "Python 3 (ipykernel)",
   "language": "python",
   "name": "python3"
  },
  "language_info": {
   "codemirror_mode": {
    "name": "ipython",
    "version": 3
   },
   "file_extension": ".py",
   "mimetype": "text/x-python",
   "name": "python",
   "nbconvert_exporter": "python",
   "pygments_lexer": "ipython3",
   "version": "3.9.7"
  }
 },
 "nbformat": 4,
 "nbformat_minor": 5
}
