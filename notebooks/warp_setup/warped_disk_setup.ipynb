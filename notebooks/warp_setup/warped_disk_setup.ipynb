{
 "cells": [
  {
   "cell_type": "markdown",
   "id": "7d40ec98-5802-4090-a32f-8a993b70f302",
   "metadata": {},
   "source": [
    "# Create A Warped Disk Setup for RADMC-3D"
   ]
  },
  {
   "cell_type": "markdown",
   "id": "f5089a43-472c-47d8-9bb6-7f2cc00d1941",
   "metadata": {
    "lines_to_next_cell": 0
   },
   "source": [
    "## Imports"
   ]
  },
  {
   "cell_type": "code",
   "execution_count": null,
   "id": "0b01b862-d645-4e15-8829-bdb0f4c36231",
   "metadata": {},
   "outputs": [],
   "source": [
    "import os\n",
    "from pathlib import Path\n",
    "import subprocess\n",
    "\n",
    "from matplotlib import cm\n",
    "from matplotlib import pyplot as plt\n",
    "from matplotlib.colors import LogNorm\n",
    "import numpy as np\n",
    "from tqdm.auto import tqdm\n",
    "from IPython.display import Video\n",
    "from astropy import constants as c\n",
    "\n",
    "from radmc3dPy import analyze, natconst\n",
    "from radmc3dPy.image import readImage, plotImage, makeImage\n",
    "\n",
    "au = c.au.cgs.value\n",
    "pc = c.pc.cgs.value\n",
    "M_sun = c.M_sun.cgs.value\n",
    "L_sun = c.L_sun.cgs.value\n",
    "R_sun = c.R_sun.cgs.value\n",
    "Grav = c.G.cgs.value\n",
    "m_p = c.m_p.cgs.value"
   ]
  },
  {
   "cell_type": "code",
   "execution_count": null,
   "id": "78f9418d-8326-422e-8c55-4543ce8f0df7",
   "metadata": {},
   "outputs": [],
   "source": [
    "%matplotlib widget"
   ]
  },
  {
   "cell_type": "code",
   "execution_count": null,
   "id": "b048729a-1a22-49fe-81e5-14d03e404ba7",
   "metadata": {},
   "outputs": [],
   "source": [
    "from diskwarp.helper import warp_transformation\n",
    "from diskwarp.helper import unwarp_transformation\n",
    "from diskwarp.helper import logistic\n",
    "from diskwarp.helper import vel_car_to_sph\n",
    "from diskwarp.helper import vel_sph_to_car\n",
    "from diskwarp.helper import grid_refine_inner_edge\n",
    "from diskwarp.helper import call_radmc\n",
    "from diskwarp import helper"
   ]
  },
  {
   "cell_type": "markdown",
   "id": "d8fce6c8-1208-42e4-8d94-8ff60e6c4614",
   "metadata": {
    "lines_to_next_cell": 0
   },
   "source": [
    "## Setup "
   ]
  },
  {
   "cell_type": "markdown",
   "id": "9e0ece39-ad8e-4bfb-97ca-a4dd2b20b513",
   "metadata": {
    "lines_to_next_cell": 0
   },
   "source": [
    "### Set general parameters"
   ]
  },
  {
   "cell_type": "code",
   "execution_count": null,
   "id": "38fc65e1",
   "metadata": {},
   "outputs": [],
   "source": [
    "# Monte Carlo parameters\n",
    "#\n",
    "nphot_therm = 1000000\n",
    "nphot_scat = 1000000"
   ]
  },
  {
   "cell_type": "code",
   "execution_count": null,
   "id": "c4951760",
   "metadata": {},
   "outputs": [],
   "source": [
    "# Grid parameters\n",
    "#\n",
    "n_r = 200\n",
    "n_theta = 128\n",
    "n_phi = 256\n",
    "r_in = 0.5 * au\n",
    "r_out = 100 * au\n",
    "thetaup = 0.1       # Theta grid starting point (0=pole, but singular, so choose >0)"
   ]
  },
  {
   "cell_type": "code",
   "execution_count": null,
   "id": "1d7c9f88",
   "metadata": {},
   "outputs": [],
   "source": [
    "# inner edge grid refinement\n",
    "nlev_rin = 8\n",
    "nspan_rin = 3"
   ]
  },
  {
   "cell_type": "code",
   "execution_count": null,
   "id": "406d2774",
   "metadata": {
    "lines_to_next_cell": 0
   },
   "outputs": [],
   "source": [
    "# Disk parameters\n",
    "#\n",
    "sigma_0 = 1e1           # Gas surface density at 1 au [g / cm^2]\n",
    "d2g = 0.01              # dust-to-gas ratio\n",
    "gamma_gas = 1.0         # power-law exponent of the surface density\n",
    "hor_0 = 0.05            # h/r at 1 au\n",
    "hor_exp = 0.1           # flaring exponent"
   ]
  },
  {
   "cell_type": "code",
   "execution_count": null,
   "id": "f45ce491",
   "metadata": {},
   "outputs": [],
   "source": [
    "# Star parameters\n",
    "#\n",
    "M_star = 2.4 * M_sun\n",
    "R_star = 2.4 * R_sun\n",
    "T_star = 1e4\n",
    "star_coord = np.array([0., 0., 0.])"
   ]
  },
  {
   "cell_type": "markdown",
   "id": "f19d0557-9e69-4f0f-98fa-f939f1f6f883",
   "metadata": {
    "lines_to_next_cell": 0
   },
   "source": [
    "### Make the coordinates"
   ]
  },
  {
   "cell_type": "markdown",
   "id": "acbcff1a-4f79-419d-a784-945343dfe3fd",
   "metadata": {},
   "source": [
    "This creates the grid that gets put into RADMC3D"
   ]
  },
  {
   "cell_type": "code",
   "execution_count": null,
   "id": "9cbee434-460d-4067-b98e-f4229c92a40d",
   "metadata": {
    "lines_to_next_cell": 0
   },
   "outputs": [],
   "source": [
    "ri = np.geomspace(r_in, r_out, n_r + 1)\n",
    "ri = grid_refine_inner_edge(ri, nlev_rin, nspan_rin)   # Refinement at inner edge\n",
    "thetai = np.linspace(thetaup, np.pi - thetaup, n_theta + 1)\n",
    "phii = np.linspace(0.0, 2.0 * np.pi, n_phi + 1)\n",
    "rc = 0.5 * (ri[:-1] + ri[1:])\n",
    "thetac = 0.5 * (thetai[:-1] + thetai[1:])\n",
    "phic = 0.5 * (phii[:-1] + phii[1:])\n",
    "n_r = len(rc)     # Recompute nr, because of refinement at inner edge"
   ]
  },
  {
   "cell_type": "code",
   "execution_count": null,
   "id": "ebaca82b",
   "metadata": {
    "lines_to_next_cell": 0
   },
   "outputs": [],
   "source": [
    "# Make the full mesh\n",
    "RC, THETAC, PHIC = np.meshgrid(rc, thetac, phic, indexing='ij')\n",
    "XC = RC * np.sin(THETAC) * np.cos(PHIC)\n",
    "YC = RC * np.sin(THETAC) * np.sin(PHIC)\n",
    "ZC = RC * np.cos(THETAC)"
   ]
  },
  {
   "cell_type": "markdown",
   "id": "07900d3a-c2f0-4e59-b86a-e38a4662f1ea",
   "metadata": {
    "lines_to_next_cell": 0
   },
   "source": [
    "### Make the warped model"
   ]
  },
  {
   "cell_type": "markdown",
   "id": "ea165c6a-4cb6-4186-8ef1-b9e6833eb6ba",
   "metadata": {},
   "source": [
    "Here we compute the original position of every grid cell before the disk was warped"
   ]
  },
  {
   "cell_type": "code",
   "execution_count": null,
   "id": "bd63ab06",
   "metadata": {
    "lines_to_next_cell": 0
   },
   "outputs": [],
   "source": [
    "# un-warp the coordinates\n",
    "warp = 45.\n",
    "twist = 0.\n",
    "\n",
    "warp_array = helper.warp(rc, i_in=warp, r0=75 * au, dr=10 * au)  # Specify the r0 and dr in AU\n",
    "twist_array = helper.twist(rc, phi=twist, r0=75 * au, dr=10 * au)\n",
    "\n",
    "XU, YU, ZU = unwarp_transformation(\n",
    "    XC, YC, ZC,\n",
    "    warp_array[:, None, None],\n",
    "    twist_array[:, None, None])\n",
    "\n",
    "RU = np.sqrt(XU**2 + YU**2 + ZU**2)\n",
    "THETAU = np.pi / 2.0 - np.arctan2(ZU, np.sqrt(XU**2 + YU**2))\n",
    "PHIU = (np.arctan2(YU, XU) + 2 * np.pi)%(2 * np.pi)"
   ]
  },
  {
   "cell_type": "markdown",
   "id": "7dc42dbf-d798-49eb-b5c2-39c9fe82252e",
   "metadata": {},
   "source": [
    "For those positions, we compute the gas and dust denstiy."
   ]
  },
  {
   "cell_type": "code",
   "execution_count": null,
   "id": "a9a95783",
   "metadata": {
    "lines_to_next_cell": 0
   },
   "outputs": [],
   "source": [
    "# Make the dust density model\n",
    "sig_g = sigma_0 * (RU / au)**-gamma_gas\n",
    "H = hor_0 * (rc / au)**hor_exp * rc\n",
    "rho_g = (sig_g / (np.sqrt(2. * np.pi) * H[:, None, None])) * np.exp(-(ZU**2 / H[:, None, None]**2) / 2.0)\n",
    "rho_d = d2g * rho_g"
   ]
  },
  {
   "cell_type": "code",
   "execution_count": null,
   "id": "2c4b400b-96b6-4208-bc75-add1c6f8e59f",
   "metadata": {},
   "outputs": [],
   "source": [
    "# determine where to put the CO and compute CO abundance\n",
    "em_surf = (np.abs(ZU) > 4.0 * H[:, None, None]) & (np.abs(ZU) < 5.0 * H[:, None, None])\n",
    "\n",
    "CO_abundance = 1e-4\n",
    "fact_CO = CO_abundance / (2.3 * m_p)\n",
    "nco = rho_g * fact_CO * em_surf"
   ]
  },
  {
   "cell_type": "code",
   "execution_count": null,
   "id": "3a3cd67b-e0e2-4c0a-87a1-17c13e2e5607",
   "metadata": {},
   "outputs": [],
   "source": [
    "# Make the gas temperature model\n",
    "T_0 = 300.\n",
    "q = 0.5\n",
    "tgas = T_0 * (RU / (50.0 * au))**(-q)"
   ]
  },
  {
   "cell_type": "code",
   "execution_count": null,
   "id": "833e6807",
   "metadata": {
    "lines_to_next_cell": 0
   },
   "outputs": [],
   "source": [
    "# Make the velocity model\n",
    "# this velocity is the original r,theta,phi velocity in the un-warped state,\n",
    "# before warping to our coordinates\n",
    "# wasn't yet really computed\n",
    "VRU = np.zeros_like(RU)\n",
    "VTU = np.zeros_like(RU)\n",
    "VPU = np.sqrt(Grav * M_star / RU)\n",
    "\n",
    "# make cartesian velocities\n",
    "\n",
    "VXU, VYU, VZU = vel_sph_to_car(THETAU, PHIU, VRU, VTU, VPU)\n",
    "\n",
    "# warp velocities\n",
    "VXW, VYW, VZW = warp_transformation(\n",
    "    VXU, VYU, VZU,\n",
    "    warp_array[:, None, None],\n",
    "    twist_array[:, None, None])\n",
    "\n",
    "VRW, VTW, VPW = vel_car_to_sph(THETAC, PHIC, VXW, VYW, VZW)\n",
    "\n",
    "# set the turbulent velocity contribution\n",
    "\n",
    "vturb = 0.001 * VPU"
   ]
  },
  {
   "cell_type": "code",
   "execution_count": null,
   "id": "6977e1e2-7b80-4bf2-92b5-ae3d8b3265b3",
   "metadata": {},
   "outputs": [],
   "source": [
    "it = int(n_theta // 2)\n",
    "s = 5\n",
    "_r = 40\n",
    "\n",
    "f, ax = plt.subplots(subplot_kw={'projection':'3d'}, figsize=(10, 10))\n",
    "ax.set_proj_type('ortho')\n",
    "\n",
    "ir = rc.searchsorted(_r * au)\n",
    "ax.set_xlim(-_r, _r)\n",
    "ax.set_ylim(-_r, _r)\n",
    "ax.set_zlim(-_r, _r)\n",
    "\n",
    "ax.view_init(elev=5, azim=120)\n",
    "\n",
    "# plot the azimuthal ring\n",
    "ax.plot3D(XC[ir, it, :] / au, YC[ir, it, :] / au, ZC[ir, it, :] / au, 'k', lw=0.5)\n",
    "ax.plot3D(XU[ir, it, :] / au, YU[ir, it, :] / au, ZU[ir, it, :] / au, 'r', lw=0.5)\n",
    "\n",
    "#scale = 5000000\n",
    "scale = .3 * _r * au / (np.sqrt(VXW[ir, it, :]**2 + VYW[ir, it, :]**2 + VZW[ir, it, :]**2)).mean()\n",
    "\n",
    "arr_u = np.array([[XU, XU + scale * VXU], [YU, YU + scale * VYU], [ZU, ZU + scale * VZU]])\n",
    "arr_w = np.array([[XC, XC + scale * VXW], [YC, YC + scale * VYW], [ZC, ZC + scale * VZW]])\n",
    "\n",
    "for iphi in range(0, n_phi, s):\n",
    "    ax.plot3D(*arr_u[:, :, ir, it, iphi]/au, 'r', lw=0.5)\n",
    "    ax.plot3D(*arr_w[:, :, ir, it, iphi]/au, 'k', lw=0.5)\n",
    "    \n",
    "ax.view_init(0, 0)"
   ]
  },
  {
   "cell_type": "markdown",
   "id": "672c512c-cf3d-471c-9d7a-410d4722e9a7",
   "metadata": {
    "tags": []
   },
   "source": [
    "### Write RADMC3D setup"
   ]
  },
  {
   "cell_type": "code",
   "execution_count": null,
   "id": "aef7991a",
   "metadata": {
    "lines_to_next_cell": 0
   },
   "outputs": [],
   "source": [
    "# Write the wavelength_micron.inp file\n",
    "#\n",
    "lam1 = 0.1e0\n",
    "lam2 = 7.0e0\n",
    "lam3 = 25.e0\n",
    "lam4 = 1.0e4\n",
    "n12 = 20\n",
    "n23 = 100\n",
    "n34 = 30\n",
    "lam12 = np.geomspace(lam1, lam2, n12, endpoint=False)\n",
    "lam23 = np.geomspace(lam2, lam3, n23, endpoint=False)\n",
    "lam34 = np.geomspace(lam3, lam4, n34, endpoint=True)\n",
    "lam = np.concatenate([lam12, lam23, lam34])\n",
    "nlam = lam.size"
   ]
  },
  {
   "cell_type": "code",
   "execution_count": null,
   "id": "9a321e2e",
   "metadata": {
    "lines_to_next_cell": 0
   },
   "outputs": [],
   "source": [
    "# Write the wavelength file\n",
    "#\n",
    "with open('wavelength_micron.inp', 'w+') as f:\n",
    "    f.write('%d\\n' % (nlam))\n",
    "    for value in lam:\n",
    "        f.write('%13.6e\\n' % (value))"
   ]
  },
  {
   "cell_type": "code",
   "execution_count": null,
   "id": "6cfef794",
   "metadata": {
    "lines_to_next_cell": 0
   },
   "outputs": [],
   "source": [
    "# Write the stars.inp file\n",
    "#\n",
    "with open('stars.inp', 'w+') as f:\n",
    "    f.write('2\\n')\n",
    "    f.write('1 %d\\n\\n' % (nlam))\n",
    "    f.write('%13.6e %13.6e %13.6e %13.6e %13.6e\\n\\n' % (R_star, M_star, *star_coord))\n",
    "    for value in lam:\n",
    "        f.write('%13.6e\\n' % (value))\n",
    "    f.write('\\n%13.6e\\n' % (-T_star))"
   ]
  },
  {
   "cell_type": "code",
   "execution_count": null,
   "id": "b3cb9fba",
   "metadata": {
    "lines_to_next_cell": 0
   },
   "outputs": [],
   "source": [
    "# Write the grid file\n",
    "#\n",
    "with open('amr_grid.inp', 'w+') as f:\n",
    "    f.write('1\\n')                       # iformat\n",
    "    f.write('0\\n')                       # AMR grid style  (0=regular grid, no AMR)\n",
    "    f.write('100\\n')                     # Coordinate system: spherical\n",
    "    f.write('0\\n')                       # gridinfo\n",
    "    f.write('1 1 1\\n')                   # Include r,theta coordinates\n",
    "    f.write('%d %d %d\\n' % (n_r, n_theta, n_phi))  # Size of grid\n",
    "    for value in ri:\n",
    "        f.write('%13.6e\\n' % (value))      # X coordinates (cell walls)\n",
    "    for value in thetai:\n",
    "        f.write('%13.6e\\n' % (value))      # Y coordinates (cell walls)\n",
    "    for value in phii:\n",
    "        f.write('%13.6e\\n' % (value))      # Z coordinates (cell walls)"
   ]
  },
  {
   "cell_type": "code",
   "execution_count": null,
   "id": "09806efe-10a3-45f8-aa32-a0580e555474",
   "metadata": {},
   "outputs": [],
   "source": [
    "# Write the density file\n",
    "#\n",
    "with open('dust_density.inp','w+') as f:\n",
    "    f.write('1\\n')                       # Format number\n",
    "    f.write('%d\\n'%(n_r * n_theta * n_phi))     # Nr of cells\n",
    "    f.write('1\\n')                       # Nr of dust species\n",
    "    data = rho_d.ravel(order='F')   # Create a 1-D view, fortran-style indexing\n",
    "    data.tofile(f, sep='\\n', format=\"%13.6e\")\n",
    "    f.write('\\n')"
   ]
  },
  {
   "cell_type": "code",
   "execution_count": null,
   "id": "64c12261",
   "metadata": {
    "lines_to_next_cell": 0
   },
   "outputs": [],
   "source": [
    "# Dust opacity control file\n",
    "#\n",
    "with open('dustopac.inp', 'w+') as f:\n",
    "    f.write('2               Format number of this file\\n')\n",
    "    f.write('1               Nr of dust species\\n')\n",
    "    f.write('============================================================================\\n')\n",
    "    f.write('1               Way in which this dust species is read\\n')\n",
    "    f.write('0               0=Thermal grain\\n')\n",
    "    f.write('silicate        Extension of name of dustkappa_***.inp file\\n')\n",
    "    f.write('----------------------------------------------------------------------------\\n')"
   ]
  },
  {
   "cell_type": "code",
   "execution_count": null,
   "id": "c754a76f-abe6-44c6-b9b5-693ca81749ae",
   "metadata": {
    "lines_to_next_cell": 0
   },
   "outputs": [],
   "source": [
    "# write CO density\n",
    "\n",
    "with open('numberdens_co.inp', 'w+') as f:\n",
    "    f.write('1\\n')                       # Format number\n",
    "    f.write('%d\\n' % (n_r * n_theta * n_phi))     # Nr of cells\n",
    "    data = nco.ravel(order='F')          # Create a 1-D view, fortran-style indexing\n",
    "    data.tofile(f, sep='\\n', format=\"%13.6e\")\n",
    "    f.write('\\n')"
   ]
  },
  {
   "cell_type": "code",
   "execution_count": null,
   "id": "4e0dcaa3",
   "metadata": {
    "lines_to_next_cell": 0
   },
   "outputs": [],
   "source": [
    "# Write the gas velocity field\n",
    "#\n",
    "with open('gas_velocity.inp', 'w+') as f:\n",
    "    f.write('1\\n')                       # Format number\n",
    "    f.write('%d\\n' % (n_r * n_theta * n_phi))     # Nr of cells\n",
    "    for iphi in range(n_phi):\n",
    "        for itheta in range(n_theta):\n",
    "            for ir in range(n_r):\n",
    "                f.write('%13.6e %13.6e %13.6e\\n' % (VRW[ir, itheta, iphi], VTW[ir, itheta, iphi], VPW[ir, itheta, iphi]))"
   ]
  },
  {
   "cell_type": "code",
   "execution_count": null,
   "id": "b312bd03",
   "metadata": {
    "lines_to_next_cell": 0
   },
   "outputs": [],
   "source": [
    "# Write the microturbulence file\n",
    "#\n",
    "with open('microturbulence.inp', 'w+') as f:\n",
    "    f.write('1\\n')                       # Format number\n",
    "    f.write('%d\\n' % (n_r * n_theta * n_phi))     # Nr of cells\n",
    "    data = vturb.ravel(order='F')        # Create a 1-D view, fortran-style indexing\n",
    "    data.tofile(f, sep='\\n', format=\"%13.6e\")\n",
    "    f.write('\\n')"
   ]
  },
  {
   "cell_type": "code",
   "execution_count": null,
   "id": "bcc0295f",
   "metadata": {
    "lines_to_next_cell": 0
   },
   "outputs": [],
   "source": [
    "# Write the lines.inp control file\n",
    "#\n",
    "with open('lines.inp', 'w') as f:\n",
    "    f.write('1\\n')\n",
    "    f.write('1\\n')\n",
    "    f.write('co    leiden    0    0\\n')"
   ]
  },
  {
   "cell_type": "code",
   "execution_count": null,
   "id": "9e9e320b",
   "metadata": {},
   "outputs": [],
   "source": [
    "# Write the radmc3d.inp control file\n",
    "#\n",
    "with open('radmc3d.inp', 'w+') as f:\n",
    "    f.write('nphot = %d\\n' % (nphot_therm))\n",
    "    f.write('nphot_scat = %d\\n' % (nphot_scat))\n",
    "    f.write('scattering_mode_max = 1\\n')\n",
    "    f.write('iranfreqmode = 1\\n')\n",
    "    f.write('tgas_eq_tdust = 1\\n')"
   ]
  },
  {
   "cell_type": "markdown",
   "id": "26fbf59b-bb13-4b9a-8d20-7fd4d8ea51cb",
   "metadata": {},
   "source": [
    "### Check density contours of dust and gas"
   ]
  },
  {
   "cell_type": "code",
   "execution_count": null,
   "id": "d0b0afa7-390b-44e1-b6bd-8ec7a0790a30",
   "metadata": {},
   "outputs": [],
   "source": [
    "data = analyze.readData(ddens=True, gdens=True, ispec='co', binary=False)"
   ]
  },
  {
   "cell_type": "code",
   "execution_count": null,
   "id": "134e2910-3784-4f30-8250-92a5346328e4",
   "metadata": {},
   "outputs": [],
   "source": [
    "fig, ax = plt.subplots()\n",
    "c = ax.pcolormesh(data.grid.x/natconst.au, np.pi/2.-data.grid.y, data.ndens_mol[:,:,20,0].T, norm=LogNorm(vmin=1e-20, vmax=1e-10))\n",
    "ax.set_xlabel('r [AU]')\n",
    "ax.set_ylabel(r'$\\pi/2-\\theta$')\n",
    "# ax.set_xscale('log')\n",
    "\n",
    "cb = fig.colorbar(c)\n",
    "cb.set_label(r'$\\log_{10}{\\rho}$', rotation=270.)"
   ]
  },
  {
   "cell_type": "markdown",
   "id": "aeecce6b-8739-4a39-8007-50be0fc4d611",
   "metadata": {},
   "source": [
    "Make a movie of this $\\phi$-sweep"
   ]
  },
  {
   "cell_type": "code",
   "execution_count": null,
   "id": "5f96689b-222a-4fd2-8222-5ec9ba168d31",
   "metadata": {},
   "outputs": [],
   "source": [
    "dirname = Path('frames')\n",
    "dirname.mkdir(exist_ok=True)\n",
    "\n",
    "for iphi,_phi in tqdm(enumerate(phic), total=len(phic)):\n",
    "    # c.set_array(data.rhodust[:,:,iphi,0].T.ravel())\n",
    "    c.set_array(data.ndens_mol[:,:,iphi,0].T.ravel())\n",
    "    ax.set_title(f'$\\phi = {np.rad2deg(_phi):.2f}$º')\n",
    "    fig.savefig(dirname / f'frame_{iphi:03d}.jpeg')\n",
    "    \n",
    "p = subprocess.getoutput(f'ffmpeg -y -framerate 30 -i {dirname}/frame_%03d.jpeg -c:v libx264 -crf 23 -pix_fmt yuv420p video.mp4')\n",
    "\n",
    "Video('video.mp4', width=500, height=500, html_attributes='loop controls autoplay') "
   ]
  },
  {
   "cell_type": "markdown",
   "id": "92370714-434c-466d-9597-90f44df90c1b",
   "metadata": {
    "tags": []
   },
   "source": [
    "## Run RADMC-3D"
   ]
  },
  {
   "cell_type": "markdown",
   "id": "0c8268c1-c314-4f75-854d-fe00166edde6",
   "metadata": {},
   "source": [
    "General image parameters"
   ]
  },
  {
   "cell_type": "code",
   "execution_count": null,
   "id": "4411cf18",
   "metadata": {},
   "outputs": [],
   "source": [
    "dpc         = 140.     # Distance in parsec (for conversion to Jy/pixel in 1.3 mm map)\n",
    "incl        = -30.\n",
    "phi         = 0.\n",
    "npix        = 200\n",
    "sizeau      = 200\n",
    "lamda_image = 1.3004e3"
   ]
  },
  {
   "cell_type": "markdown",
   "id": "028b26b7-c4a9-4531-907d-cfd144cf6a8b",
   "metadata": {
    "tags": []
   },
   "source": [
    "### Thermal Monte Carlo"
   ]
  },
  {
   "cell_type": "code",
   "execution_count": null,
   "id": "b0242f6e-6266-48ca-abc5-43aa1da22261",
   "metadata": {},
   "outputs": [],
   "source": [
    "rc, output = call_radmc('radmc3d mctherm setthreads 8', total=nphot_therm)"
   ]
  },
  {
   "cell_type": "markdown",
   "id": "a7165411-5a2a-497d-8e99-22b4ceec6c95",
   "metadata": {
    "tags": []
   },
   "source": [
    "### Continuum image"
   ]
  },
  {
   "cell_type": "code",
   "execution_count": null,
   "id": "5dfe9cbc-c533-47e3-a7f3-35acc7ea443a",
   "metadata": {},
   "outputs": [],
   "source": [
    "rc, output = call_radmc(f'radmc3d image dpc {dpc} incl {incl} phi {phi} lambda {lamda_image} sizeau {sizeau} npix {npix} setthreads 8', total=nphot_scat)"
   ]
  },
  {
   "cell_type": "code",
   "execution_count": null,
   "id": "b3e142b3-12c1-4b1d-8136-fde076f0ce3a",
   "metadata": {},
   "outputs": [],
   "source": [
    "im_mm = readImage()\n",
    "f, ax = plt.subplots(figsize=(10, 8))\n",
    "plotImage(im_mm, au=True, log=True, maxlog=3, bunit='inu', dpc=dpc, cmap='magma', ax=ax);"
   ]
  },
  {
   "cell_type": "markdown",
   "id": "917d8245-ca4f-4262-923f-eb28b011ea68",
   "metadata": {
    "tags": []
   },
   "source": [
    "### Scattered light image"
   ]
  },
  {
   "cell_type": "code",
   "execution_count": null,
   "id": "70f980b1-97f3-431b-920d-cf4756c69471",
   "metadata": {},
   "outputs": [],
   "source": [
    "rc, output = call_radmc(f'radmc3d image dpc {dpc} incl {incl} phi {phi} lambda 1.65 sizeau {sizeau} npix {npix} setthreads 8', total=nphot_scat)"
   ]
  },
  {
   "cell_type": "code",
   "execution_count": null,
   "id": "f93cb36d-902b-483c-9177-8a45d1e0ac40",
   "metadata": {},
   "outputs": [],
   "source": [
    "im_mm = readImage()\n",
    "f, ax = plt.subplots(figsize=(10, 8))\n",
    "plotImage(im_mm, au=True, log=True, maxlog=7, bunit='inu', dpc=dpc, cmap='magma', ax=ax);"
   ]
  },
  {
   "cell_type": "markdown",
   "id": "73491986-5117-46e6-91cc-ff239004471a",
   "metadata": {
    "tags": []
   },
   "source": [
    "### Single Channel Map"
   ]
  },
  {
   "cell_type": "code",
   "execution_count": null,
   "id": "a8446773",
   "metadata": {
    "lines_to_next_cell": 2
   },
   "outputs": [],
   "source": [
    "# Now let's make a set of channel maps\n",
    "vkms = -1\n",
    "rc, output = call_radmc(f'radmc3d image imolspec 1 iline 2 vkms {vkms} incl {incl} phi {phi} npix {npix} setthreads 8 sizeau {sizeau}', total=nphot_scat)"
   ]
  },
  {
   "cell_type": "markdown",
   "id": "f2755bd7-4138-4488-9441-291f985417ba",
   "metadata": {},
   "source": [
    "Read and plot the image"
   ]
  },
  {
   "cell_type": "code",
   "execution_count": null,
   "id": "d7b4a547-03d6-4abb-a9aa-c39cc90c3e51",
   "metadata": {},
   "outputs": [],
   "source": [
    "im = readImage()\n",
    "f, ax = plt.subplots(figsize=(8, 6))\n",
    "plotImage(im, au=True, cmap=cm.hot, ax=ax, maxlog=3, log=True)"
   ]
  },
  {
   "cell_type": "markdown",
   "id": "0deed769-41dc-4f6f-ac27-8fbe7dd3f3fe",
   "metadata": {},
   "source": [
    "### Try to make momentmaps"
   ]
  },
  {
   "cell_type": "code",
   "execution_count": null,
   "id": "2d8afcae-e45a-44bb-9141-1e91a905c3f3",
   "metadata": {},
   "outputs": [],
   "source": [
    "# Create channelmaps in a range of +- 5km/s'\n",
    "widthkms = 5.\n",
    "linenlam = 40\n",
    "#os.system(f'radmc3d image iline 2 widthkms {widthkms} linenlam {linenlam} incl {incl} phi {phi} npix {npix} setthreads 4 sizeau {sizeau} nphot_spec {nphot_scat}')\n",
    "rc, output = call_radmc(f'radmc3d image iline 2 widthkms {widthkms} linenlam {linenlam} incl {incl} phi {phi} npix {npix} setthreads 8 sizeau {sizeau} nphot_spec {nphot_scat}', total=linenlam * nphot_scat)"
   ]
  },
  {
   "cell_type": "code",
   "execution_count": null,
   "id": "d50df090-2054-433e-a4e8-3993a9617d5f",
   "metadata": {},
   "outputs": [],
   "source": [
    "im = readImage()\n",
    "\n",
    "# Write fits file\n",
    "fname=str(f'cube_incl{incl}phi{phi}_inc{twist}_PA{warp}.fits')\n",
    "nu0 = 230.538*10**9 # Hz\n",
    "im.writeFits(fname=fname, dpc=dpc, coord='03h10m05s -10d05m30s',\n",
    "             bandwidthmhz=2000.0, casa=False, nu0=nu0, stokes='I')"
   ]
  },
  {
   "cell_type": "code",
   "execution_count": null,
   "id": "880d0964-1064-4936-b04a-798f72c521ad",
   "metadata": {},
   "outputs": [],
   "source": [
    "f, ax = plt.subplots()\n",
    "ax.plot(im.freq / 1e9, im.image[25, 100, :], '-x')"
   ]
  },
  {
   "cell_type": "code",
   "execution_count": null,
   "id": "16876c24-f4d6-4ee3-b900-bdbc6f686026",
   "metadata": {},
   "outputs": [],
   "source": [
    "moment = 1\n",
    "wav0 = lamda_image\n",
    "vrange = [-1.0, 1.0]\n",
    "f, ax = plt.subplots()\n",
    "im.plotMomentMap(moment=1, wav0=wav0, dpc=dpc, au=True, cmap='RdBu', vclip=vrange)\n",
    "f.savefig('moment1.pdf', transparent=True, bbox_inches='tight')"
   ]
  },
  {
   "cell_type": "code",
   "execution_count": null,
   "id": "e51ac202-e976-4cd1-9a2e-8557821f534a",
   "metadata": {},
   "outputs": [],
   "source": [
    "import bettermoments as bm\n",
    "data, velax = bm.load_cube(fname)\n",
    "rms = bm.estimate_RMS(data=data, N=5)\n",
    "moments = bm.collapse_first(velax=velax, data=data, rms=rms)\n",
    "bm.save_to_FITS(moments=moments, method='first', path=fname)"
   ]
  },
  {
   "cell_type": "code",
   "execution_count": null,
   "id": "b6d6e923-b6fd-4552-bda3-be8ce39591a8",
   "metadata": {},
   "outputs": [],
   "source": []
  }
 ],
 "metadata": {
  "jupytext": {
   "cell_metadata_filter": "-all",
   "executable": "/usr/bin/env python",
   "main_language": "python",
   "notebook_metadata_filter": "-all"
  },
  "kernelspec": {
   "display_name": "Python 3 (ipykernel)",
   "language": "python",
   "name": "python3"
  },
  "language_info": {
   "codemirror_mode": {
    "name": "ipython",
    "version": 3
   },
   "file_extension": ".py",
   "mimetype": "text/x-python",
   "name": "python",
   "nbconvert_exporter": "python",
   "pygments_lexer": "ipython3",
   "version": "3.9.7"
  }
 },
 "nbformat": 4,
 "nbformat_minor": 5
}
