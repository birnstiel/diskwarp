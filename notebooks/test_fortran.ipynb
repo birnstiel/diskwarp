{
 "cells": [
  {
   "cell_type": "markdown",
   "metadata": {},
   "source": [
    "# Test the fortran functions"
   ]
  },
  {
   "cell_type": "code",
   "execution_count": null,
   "metadata": {},
   "outputs": [],
   "source": [
    "import numpy as np\n",
    "from scipy.interpolate import griddata\n",
    "import matplotlib.pyplot as plt\n",
    "from matplotlib.colors import Normalize\n",
    "\n",
    "import diskwarp\n",
    "%matplotlib widget"
   ]
  },
  {
   "cell_type": "markdown",
   "metadata": {
    "tags": []
   },
   "source": [
    "## 1. Test seach for intersections"
   ]
  },
  {
   "cell_type": "markdown",
   "metadata": {},
   "source": [
    "Define a point"
   ]
  },
  {
   "cell_type": "code",
   "execution_count": null,
   "metadata": {},
   "outputs": [],
   "source": [
    "p = [.3,.5]"
   ]
  },
  {
   "cell_type": "markdown",
   "metadata": {},
   "source": [
    "Define some 3D surface mesh (add noise to potentiall have several surfaces overlap)"
   ]
  },
  {
   "cell_type": "code",
   "execution_count": null,
   "metadata": {},
   "outputs": [],
   "source": [
    "_x = np.sin(np.linspace(0,np.pi,15))\n",
    "_y = np.linspace(0, 1, 10)\n",
    "\n",
    "xi, yi = np.meshgrid(_x, _y, indexing='ij')\n",
    "xi += 0.3 * np.random.rand(*xi.shape)\n",
    "yi += 0.3 * np.random.rand(*yi.shape)\n",
    "zi = np.linspace(0, 1, len(_x))[:,None] * np.ones_like(xi)\n",
    "\n",
    "vi = 5. * np.ones_like(xi)"
   ]
  },
  {
   "cell_type": "markdown",
   "metadata": {},
   "source": [
    "Now search for the surfaces that lie along the projection in z-direction"
   ]
  },
  {
   "cell_type": "code",
   "execution_count": null,
   "metadata": {},
   "outputs": [],
   "source": [
    "matches, n_matches = diskwarp.fmodule.findpoint(xi, yi, p)\n",
    "matches -= 1\n",
    "print(f'{n_matches} cells found')"
   ]
  },
  {
   "cell_type": "markdown",
   "metadata": {},
   "source": [
    "Now search for the intersection points and interpolate"
   ]
  },
  {
   "cell_type": "code",
   "execution_count": null,
   "metadata": {},
   "outputs": [],
   "source": [
    "intersect, n_inter = diskwarp.fmodule.intersect_surface(xi, yi, zi, vi, p, 10)\n",
    "intersect = intersect[:n_inter]"
   ]
  },
  {
   "cell_type": "code",
   "execution_count": null,
   "metadata": {},
   "outputs": [],
   "source": [
    "fig = plt.figure(figsize=(8, 4))\n",
    "\n",
    "ax = fig.add_axes([0, 0, 0.5, 1], projection='3d')\n",
    "\n",
    "# plot 3d mesh\n",
    "\n",
    "for ix in range(xi.shape[0]):\n",
    "    ax.plot(xi[ix, :], yi[ix, :], zi[ix, :], lw=0.5, c='k');\n",
    "for iy in range(xi.shape[1]):\n",
    "    ax.plot(xi[:, iy], yi[:, iy], zi[:, iy], lw=0.5, c='k');\n",
    "    \n",
    "# plot matches in 3d\n",
    "    \n",
    "for i in range(n_matches):\n",
    "    ix, iy = matches[i, :]\n",
    "    ax.plot(\n",
    "        [xi[ix,iy], xi[ix+1,iy], xi[ix+1,iy+1], xi[ix,iy+1], xi[ix,iy]],\n",
    "        [yi[ix,iy], yi[ix+1,iy], yi[ix+1,iy+1], yi[ix,iy+1], yi[ix,iy]],\n",
    "        [zi[ix,iy], zi[ix+1,iy], zi[ix+1,iy+1], zi[ix,iy+1], zi[ix,iy]],\n",
    "        )\n",
    "    \n",
    "for i in range(n_inter):\n",
    "    ax.scatter(*intersect[i,:3], 'o')\n",
    "    \n",
    "# plot the \"ray\"\n",
    "\n",
    "ax.plot([p[0], p[0]], [p[1],p[1]], [0, 1], lw=1, c='r');\n",
    "ax.set_xlabel('x')\n",
    "ax.set_ylabel('y')\n",
    "ax.set_zlabel('z')\n",
    "\n",
    "# now the same in 2D\n",
    "\n",
    "ax = fig.add_axes([0.5, 0, 0.5, 1])\n",
    "\n",
    "# plot the mesh\n",
    "ax.plot(xi, yi, c='k')\n",
    "ax.plot(xi.T, yi.T, c='k')\n",
    "\n",
    "# plot the point\n",
    "ax.plot(*p, 'ro')\n",
    "\n",
    "# plot the squares\n",
    "for i in range(n_matches):\n",
    "    ix, iy = matches[i, :]\n",
    "    plt.plot(\n",
    "        [xi[ix,iy], xi[ix+1,iy], xi[ix+1,iy+1], xi[ix,iy+1], xi[ix,iy]],\n",
    "        [yi[ix,iy], yi[ix+1,iy], yi[ix+1,iy+1], yi[ix,iy+1], yi[ix,iy]],\n",
    "        )\n",
    "\n",
    "ax.set_xlabel('x')\n",
    "ax.set_ylabel('y')\n",
    "ax.set_xlim(0, 1)\n",
    "ax.set_ylim(0, 1)"
   ]
  },
  {
   "cell_type": "markdown",
   "metadata": {
    "tags": []
   },
   "source": [
    "## 2. Test bilinear interpolation"
   ]
  },
  {
   "cell_type": "markdown",
   "metadata": {
    "tags": []
   },
   "source": [
    "Define 4 points with their values"
   ]
  },
  {
   "cell_type": "code",
   "execution_count": null,
   "metadata": {},
   "outputs": [],
   "source": [
    "p00 = [1.0, 1.0, 1.0]\n",
    "p10 = [2.0, 0.0, 2.0]\n",
    "p11 = [3.5, 2.0, 2.0]\n",
    "p01 = [1.5, 3.0, 1.0]\n",
    "\n",
    "v00 = 1.\n",
    "v10 = 2.\n",
    "v11 = 3.\n",
    "v01 = 2."
   ]
  },
  {
   "cell_type": "markdown",
   "metadata": {},
   "source": [
    "convert them to a 2x2 grid"
   ]
  },
  {
   "cell_type": "code",
   "execution_count": null,
   "metadata": {},
   "outputs": [],
   "source": [
    "xi, yi, zi = np.array([\n",
    "    [p00, p01],\n",
    "    [p10, p11]]).T\n",
    "\n",
    "vi = np.array([\n",
    "    [v00, v01],\n",
    "    [v10, v11]]).T"
   ]
  },
  {
   "cell_type": "markdown",
   "metadata": {},
   "source": [
    "Make the regular image grid"
   ]
  },
  {
   "cell_type": "code",
   "execution_count": null,
   "metadata": {},
   "outputs": [],
   "source": [
    "_x = np.linspace(0, 4, 20)\n",
    "_y = np.linspace(0, 4, 30)\n",
    "img_x, img_y = np.meshgrid(_x, _y, indexing='ij')\n",
    "img_xc = 0.5 * (img_x[1:, 1:] + img_x[:-1, 1:])\n",
    "img_yc = 0.5 * (img_y[1:, 1:] + img_y[1:, :-1])\n",
    "img_zc = np.ones_like(img_xc)"
   ]
  },
  {
   "cell_type": "markdown",
   "metadata": {},
   "source": [
    "Interpolate each pixels on the grid"
   ]
  },
  {
   "cell_type": "code",
   "execution_count": null,
   "metadata": {},
   "outputs": [],
   "source": [
    "img_z, img_v = diskwarp.fmodule.interpolate_grid(xi, yi, zi, vi, img_xc, img_yc)"
   ]
  },
  {
   "cell_type": "code",
   "execution_count": null,
   "metadata": {},
   "outputs": [],
   "source": [
    "c = [v00, v10, v11, v01, v00]\n",
    "col = plt.cm.viridis(Normalize(vmin=1, vmax=3)(c))"
   ]
  },
  {
   "cell_type": "code",
   "execution_count": null,
   "metadata": {},
   "outputs": [],
   "source": [
    "points = np.array([xi.ravel(), yi.ravel()]).T\n",
    "values = vi.ravel()\n",
    "new_points = np.array([img_xc.ravel(), img_yc.ravel()]).T\n",
    "new_values = griddata(points, values, new_points).reshape(img_xc.shape)"
   ]
  },
  {
   "cell_type": "code",
   "execution_count": null,
   "metadata": {},
   "outputs": [],
   "source": [
    "mask = ~np.isnan(new_values)\n",
    "np.allclose(img_v[mask], new_values[mask])"
   ]
  },
  {
   "cell_type": "markdown",
   "metadata": {},
   "source": [
    "Read the fortran created test data"
   ]
  },
  {
   "cell_type": "code",
   "execution_count": null,
   "metadata": {},
   "outputs": [],
   "source": [
    "f, axs = plt.subplots(1, 2, dpi=100, sharex=True, sharey=True, figsize=(10, 4))\n",
    "for ax in axs:\n",
    "    ax.set_aspect('equal')\n",
    "\n",
    "cc0 = axs[0].pcolormesh(img_x, img_y, new_values, vmin=1, vmax=3)\n",
    "plt.colorbar(cc0, ax=axs[0])\n",
    "cc1 = axs[1].pcolormesh(img_x,    img_y,    img_v,         vmin=1, vmax=3)\n",
    "plt.colorbar(cc1, ax=axs[1])\n",
    "\n",
    "for ax in axs:\n",
    "    ax.plot(img_x, img_y, 'k', lw=0.1)\n",
    "    ax.plot(img_x.T, img_y.T, 'k', lw=0.1)\n",
    "    ax.plot(img_xc, img_yc, 'ok', ms=1)\n",
    "    ax.plot(*np.array([p00, p10, p11, p01, p00]).T[:2])\n",
    "    ax.scatter(*np.array([p00, p10, p11, p01, p00]).T[:2], c=c, ec='w', s=55);"
   ]
  },
  {
   "cell_type": "markdown",
   "metadata": {
    "tags": []
   },
   "source": [
    "## 3. Test `pointintriangle`"
   ]
  },
  {
   "cell_type": "code",
   "execution_count": null,
   "metadata": {},
   "outputs": [],
   "source": [
    "pt = [2., 1.]"
   ]
  },
  {
   "cell_type": "markdown",
   "metadata": {},
   "source": [
    "This should be `True`"
   ]
  },
  {
   "cell_type": "code",
   "execution_count": null,
   "metadata": {},
   "outputs": [],
   "source": [
    "bool(diskwarp.fmodule.pointintriangle(pt, p00[:2], p10[:2], p11[:2]))"
   ]
  },
  {
   "cell_type": "markdown",
   "metadata": {},
   "source": [
    "This should be `False`"
   ]
  },
  {
   "cell_type": "code",
   "execution_count": null,
   "metadata": {},
   "outputs": [],
   "source": [
    "bool(diskwarp.fmodule.pointintriangle(pt, p00[:2], p11[:2], p01[:2]))"
   ]
  },
  {
   "cell_type": "code",
   "execution_count": null,
   "metadata": {},
   "outputs": [],
   "source": [
    "f, ax = plt.subplots()\n",
    "ax.plot(*np.array([p00, p10, p11, p00]).T[:2]);\n",
    "ax.plot(*np.array([p00, p11, p01, p00]).T[:2]);\n",
    "ax.scatter(pt[0], pt[1], c='r', marker='o')\n",
    "ax.scatter(*np.array([p00, p10, p11, p01, p00]).T[:2], c=c, ec='w', s=50);"
   ]
  },
  {
   "cell_type": "markdown",
   "metadata": {
    "tags": []
   },
   "source": [
    "## 4. Test `intersect_triangle`"
   ]
  },
  {
   "cell_type": "code",
   "execution_count": null,
   "metadata": {},
   "outputs": [],
   "source": [
    "A  = np.array([2.0, 0.0, 1.0])\n",
    "B  = np.array([3.0, 2.0, 2.0])\n",
    "C  = np.array([1.0, 1.5, 3.0])\n",
    "\n",
    "VA, VB, VC = 1., 2., 3.\n",
    "\n",
    "P = np.array([2.0, 1.0, 1.5])"
   ]
  },
  {
   "cell_type": "markdown",
   "metadata": {},
   "source": [
    "Determine intersection in python and fortran"
   ]
  },
  {
   "cell_type": "code",
   "execution_count": null,
   "metadata": {},
   "outputs": [],
   "source": [
    "def intersect_tri(A, B, C, P):\n",
    "    n = np.cross((B - A), (C - A))\n",
    "    n = n / np.linalg.norm(n)\n",
    "    d_plane = n.dot(A)\n",
    "    ray = np.array([0, 0, 1])\n",
    "    t = ( d_plane - n.dot(P)) / (n.dot(ray))\n",
    "    Q = P + t * ray\n",
    "    return Q\n",
    "\n",
    "Qp = intersect_tri(A, B, C, P)\n",
    "Qf = diskwarp.fmodule.intersect_triangle(A, B, C, P)"
   ]
  },
  {
   "cell_type": "markdown",
   "metadata": {},
   "source": [
    "Check if we are identical (should return `True`)"
   ]
  },
  {
   "cell_type": "code",
   "execution_count": null,
   "metadata": {},
   "outputs": [],
   "source": [
    "np.allclose(Qp, Qf)"
   ]
  },
  {
   "cell_type": "code",
   "execution_count": null,
   "metadata": {},
   "outputs": [],
   "source": [
    "fig = plt.figure()\n",
    "ax = fig.add_subplot(projection='3d')\n",
    "ax.plot(*np.array([A, B, C, A]).T)\n",
    "ax.plot(*np.array([P, Qf]).T, '-o')"
   ]
  },
  {
   "cell_type": "markdown",
   "metadata": {},
   "source": [
    "Randomly place points in the triangle and color according to interpolation"
   ]
  },
  {
   "cell_type": "code",
   "execution_count": null,
   "metadata": {},
   "outputs": [],
   "source": [
    "vmin = np.array([A, B, C]).min(0)\n",
    "vmax = np.array([A, B, C]).max(0)"
   ]
  },
  {
   "cell_type": "code",
   "execution_count": null,
   "metadata": {},
   "outputs": [],
   "source": [
    "norm = Normalize(vmin=1, vmax=3)"
   ]
  },
  {
   "cell_type": "code",
   "execution_count": null,
   "metadata": {},
   "outputs": [],
   "source": [
    "fig = plt.figure()\n",
    "ax = fig.add_subplot(projection='3d')\n",
    "ax.plot(*np.array([A, B, C, A]).T)\n",
    "ax.scatter(*np.array([A, B, C, A]).T, c=plt.cm.viridis(norm([VA, VB, VC, VA])), s=75, alpha=1)\n",
    "\n",
    "n_p = 500\n",
    "points     = np.zeros([n_p, 3])\n",
    "intersects = np.zeros([n_p, 4])\n",
    "\n",
    "for i in range(n_p):\n",
    "    p_random = [np.nan, np.nan, np.nan]\n",
    "    while not diskwarp.fmodule.pointintriangle(p_random[:2], A[:2], B[:2], C[:2]):\n",
    "        p_random = vmin + np.random.rand(3) * (vmax - vmin)\n",
    "        \n",
    "    #intersect = intersect_tri(A, B, C, p_random)\n",
    "    intersect = diskwarp.fmodule.intersect_triangle(A, B, C, p_random)\n",
    "    value = diskwarp.fmodule.barycenter_interpolate(A, B, C, intersect, VA, VB, VC)\n",
    "    \n",
    "    points[i, :3] = p_random\n",
    "    intersects[i, 0:3] = intersect\n",
    "    intersects[i, 3] = value\n",
    "\n",
    "ax.scatter(*intersects[:, :3].T, c=plt.cm.viridis(norm(intersects[:, 3])), s=10, alpha=1)\n",
    "ax.set_zlabel('z')"
   ]
  }
 ],
 "metadata": {
  "interpreter": {
   "hash": "15726cbe44c592edeb19da9a80e729d916bfe21938988fd8d22460ce527a1024"
  },
  "kernelspec": {
   "display_name": "Python 3",
   "language": "python",
   "name": "python3"
  },
  "language_info": {
   "codemirror_mode": {
    "name": "ipython",
    "version": 3
   },
   "file_extension": ".py",
   "mimetype": "text/x-python",
   "name": "python",
   "nbconvert_exporter": "python",
   "pygments_lexer": "ipython3",
   "version": "3.8.8"
  }
 },
 "nbformat": 4,
 "nbformat_minor": 4
}
