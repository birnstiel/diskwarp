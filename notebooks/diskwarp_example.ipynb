{
 "cells": [
  {
   "cell_type": "markdown",
   "id": "19709038-e9f9-40d0-b4e2-d35fbddf63de",
   "metadata": {
    "tags": []
   },
   "source": [
    "# Warp a disk"
   ]
  },
  {
   "cell_type": "code",
   "execution_count": null,
   "id": "77912ac2-006a-4a14-ab02-f8f03b1135cd",
   "metadata": {
    "tags": []
   },
   "outputs": [],
   "source": [
    "import matplotlib.pyplot as plt\n",
    "from matplotlib.colors import Normalize\n",
    "import numpy as np\n",
    "from tqdm.auto import tqdm\n",
    "\n",
    "import diskwarp\n",
    "from diskwarp import helper\n",
    "\n",
    "%matplotlib widget\n",
    "%config InlineBackend.figure_format = 'retina'"
   ]
  },
  {
   "cell_type": "markdown",
   "id": "3ad33da5",
   "metadata": {},
   "source": [
    "## General Definitions of disk surface and warp parameters"
   ]
  },
  {
   "cell_type": "markdown",
   "id": "b46e51b4",
   "metadata": {},
   "source": [
    "Calculate the interfaces and cell centers of the disk surface"
   ]
  },
  {
   "cell_type": "code",
   "execution_count": null,
   "id": "855f55f5-48ce-4a63-a014-5f06a5e64a98",
   "metadata": {},
   "outputs": [],
   "source": [
    "r_i = np.linspace(0.1, 150, 201)\n",
    "r_c = 0.5 * (r_i[1:] + r_i[:-1])"
   ]
  },
  {
   "cell_type": "code",
   "execution_count": null,
   "id": "a29ad2cd",
   "metadata": {},
   "outputs": [],
   "source": [
    "surf     = helper.get_surface(r_i, nphi=100)\n",
    "p0_i     = surf['points_i']\n",
    "p0_c     = surf['points_c']\n",
    "ri       = surf['ri']\n",
    "rc       = surf['rc']\n",
    "phic     = surf['phic']\n",
    "phii     = surf['phii']\n",
    "nr, nphi = p0_c.shape[:-1]"
   ]
  },
  {
   "cell_type": "markdown",
   "id": "5876ff2e-9856-4c59-b11d-f0e8a7f5d518",
   "metadata": {},
   "source": [
    "Define the warp (inclination for each ring): logistic function from $i=0$ outside transitioning to `warp_max` at radius `r0` over a transition width of `dr`."
   ]
  },
  {
   "cell_type": "code",
   "execution_count": null,
   "id": "7bb00a6e-fbaa-44ed-aad5-79c786f33a22",
   "metadata": {},
   "outputs": [],
   "source": [
    "warp_c = helper.warp(r_c, i_in=45, r0=75., dr=10.0)\n",
    "warp_i = helper.warp(r_i, i_in=45, r0=75., dr=10.0)"
   ]
  },
  {
   "cell_type": "markdown",
   "id": "75a30a4f-efd3-4871-9e48-7a85f6f9d61b",
   "metadata": {},
   "source": [
    "Define each radius' twist"
   ]
  },
  {
   "cell_type": "code",
   "execution_count": null,
   "id": "6f303e2d-2d17-4327-b3ee-87f2c3386d9c",
   "metadata": {},
   "outputs": [],
   "source": [
    "twist_i = helper.twist(r_i, phi=0.0) + np.deg2rad(0.0)\n",
    "twist_c = helper.twist(r_c, phi=0.0) + np.deg2rad(0.0)"
   ]
  },
  {
   "cell_type": "markdown",
   "id": "b2b2b108-be60-4c76-bab3-edbcd194136f",
   "metadata": {},
   "source": [
    "Calculate the velocities of all centers and edges: we assume perfect keplerian rotation, so\n",
    "$v_\\phi \\propto r^{-1/2} \\propto \\left(x^2 + y^2\\right)^{-1/4}$\n",
    "\n",
    "For testing, we might take the radial gradient out and just set $v_\\phi = 1$.\n",
    "\n",
    "Here, `v0_c` and `v0_i` contain the x-, y-, and z-component of the velocity."
   ]
  },
  {
   "cell_type": "code",
   "execution_count": null,
   "id": "41789bc9-3123-4d4f-9752-024a0d2c0585",
   "metadata": {},
   "outputs": [],
   "source": [
    "v0_c = (p0_c[:, :, 0]**2 + p0_c[:, :, 1]**2)**-0.25  # Keplerian\n",
    "v0_c = 0.0 * v0_c + 1.0  ##### make it uniform ######\n",
    "v0_c = v0_c[None, :, :] * np.array([-np.sin(phic), np.cos(phic), np.zeros_like(phic)])\n",
    "v0_c = np.moveaxis(v0_c, 0, 2)\n",
    "\n",
    "v0_i = (p0_i[:, :, 0]**2 + p0_i[:, :, 1]**2)**-0.25  # Keplerian\n",
    "v0_i = 0.0 * v0_i + 1.0  ##### make it uniform ######\n",
    "v0_i = v0_i[None, :, :] * np.array([-np.sin(phii), np.cos(phii), np.zeros_like(phii)])\n",
    "v0_i = np.moveaxis(v0_i, 0, 2)"
   ]
  },
  {
   "cell_type": "markdown",
   "id": "3a788ce2",
   "metadata": {},
   "source": [
    "define the inclination of the observer as rotation around x"
   ]
  },
  {
   "cell_type": "code",
   "execution_count": null,
   "id": "4c88aa46",
   "metadata": {},
   "outputs": [],
   "source": [
    "inc_obs = np.deg2rad(30.0)\n",
    "PA_obs  = np.deg2rad(0.0)\n",
    "azi     = np.deg2rad(0.0)"
   ]
  },
  {
   "cell_type": "markdown",
   "id": "5867325c-7c03-4192-a422-256852382aa6",
   "metadata": {},
   "source": [
    "## Apply the warp/twist"
   ]
  },
  {
   "cell_type": "code",
   "execution_count": null,
   "id": "8a968a55-b2df-423c-a8b7-6ca7bf4e9042",
   "metadata": {},
   "outputs": [],
   "source": [
    "p1_c = diskwarp.fmodule.apply_matrix2d(p0_c, warp_c, twist_c, inc_obs, PA_obs, azi)\n",
    "v1_c = diskwarp.fmodule.apply_matrix2d(v0_c, warp_c, twist_c, inc_obs, PA_obs, azi)\n",
    "p1_i = diskwarp.fmodule.apply_matrix2d(p0_i, warp_i, twist_i, inc_obs, PA_obs, azi)\n",
    "v1_i = diskwarp.fmodule.apply_matrix2d(v0_i, warp_i, twist_i, inc_obs, PA_obs, azi)"
   ]
  },
  {
   "cell_type": "code",
   "execution_count": null,
   "id": "30819802-2c14-4e1d-8eaf-5b45c4e0f00f",
   "metadata": {},
   "outputs": [],
   "source": [
    "ir = np.array([50, 75, 100, 125, 150])\n",
    "s_phi = 4\n",
    "\n",
    "scale = .2 * r_c[ir] / (v1_c[ir, :, :]**2).sum(-1).mean(-1)\n",
    "arr_1 = np.array([p1_c[ir, ::s_phi, :], p1_c[ir, ::s_phi, :] + scale[:, None, None] * v1_c[ir, ::s_phi, :]])"
   ]
  },
  {
   "cell_type": "code",
   "execution_count": null,
   "id": "b68424c4-b61f-4549-972a-d25cb2061050",
   "metadata": {},
   "outputs": [],
   "source": [
    "X, Y, Z = p1_i.T\n",
    "\n",
    "#C = Normalize()(ri[:, :].T) ## color by radius\n",
    "C = Normalize()(v1_i[:, :, -1].T) ## color by vz\n",
    "\n",
    "fig = plt.figure(figsize=(5,5))\n",
    "ax = fig.add_subplot(projection='3d')\n",
    "ax.view_init(90, -90)\n",
    "ax.set_proj_type('ortho')\n",
    "surf = ax.plot_surface(X, Y, Z, facecolors=plt.cm.RdBu(C), shade=False, linewidth=0, alpha=0.6, rstride=1, cstride=1)\n",
    "\n",
    "for _ir in range(arr_1.shape[1]):\n",
    "    for iphi in range(arr_1.shape[2]):\n",
    "        ax.plot3D(*arr_1[:, _ir, iphi, :].T, 'r', lw=1)\n",
    "\n",
    "ax.set_xlim(-r_i[-1] / 1.4, r_i[-1] / 1.4)\n",
    "ax.set_ylim(-r_i[-1] / 1.4, r_i[-1] / 1.4)\n",
    "ax.set_zlim(-r_i[-1] / 1.4, r_i[-1] / 1.4)\n",
    "ax.set_xlabel('x')\n",
    "ax.set_ylabel('y')\n",
    "ax.set_zlabel('z')\n",
    "ax.set_axis_off()"
   ]
  },
  {
   "cell_type": "markdown",
   "id": "a0fb15d3-8790-439d-b300-4931a65e71b0",
   "metadata": {},
   "source": [
    "Make a video"
   ]
  },
  {
   "cell_type": "code",
   "execution_count": null,
   "id": "53ef32e6-97ba-4876-8acc-35e799a1fe8e",
   "metadata": {},
   "outputs": [],
   "source": [
    "from pathlib import Path\n",
    "import subprocess\n",
    "\n",
    "fpath = Path('frames')\n",
    "fpath.mkdir(exist_ok=True)\n",
    "\n",
    "for i in tqdm(np.arange(0, 360)):\n",
    "    ax.view_init(20.33, i)\n",
    "    fig.savefig(fpath / f'frame_{i:03d}.png')\n",
    "\n",
    "p = subprocess.getoutput('ffmpeg -y -framerate 30 -i frames/frame_%03d.png -c:v libx264 -crf 23 -pix_fmt yuv420p video.mp4')"
   ]
  },
  {
   "cell_type": "code",
   "execution_count": null,
   "id": "22bd8481-f4b1-477b-bd23-f6fe32d40270",
   "metadata": {},
   "outputs": [],
   "source": [
    "from IPython.display import Video\n",
    "Video('video.mp4', width=500, height=500, html_attributes='loop controls autoplay') "
   ]
  },
  {
   "cell_type": "markdown",
   "id": "f46fa5ff-5ff7-472a-b8f9-9c6f9f825e26",
   "metadata": {},
   "source": [
    "## Now interpolate on sky plane"
   ]
  },
  {
   "cell_type": "code",
   "execution_count": null,
   "id": "4b76fe92-b902-431b-ac3c-c9eb32c787a4",
   "metadata": {},
   "outputs": [],
   "source": [
    "_gx = np.linspace(-r_i[-1], r_i[-1], 200)\n",
    "_gy = np.linspace(-r_i[-1], r_i[-1], 210)\n",
    "img_xi, img_yi = np.meshgrid(_gx, _gy, indexing='ij')\n",
    "img_xc = 0.5 * (img_xi[1:, 1:] + img_xi[:-1, 1:])\n",
    "img_yc = 0.5 * (img_yi[1:, 1:] + img_yi[1:, :-1])"
   ]
  },
  {
   "cell_type": "code",
   "execution_count": null,
   "id": "5b144266-3137-4f5a-bb80-763902a8e6f7",
   "metadata": {},
   "outputs": [],
   "source": [
    "X, Y, Z = p1_i.T\n",
    "vxi, vyi, vzi = v1_i.T\n",
    "img_z, img_v = diskwarp.fmodule.interpolate_grid(X, Y, Z, vzi, img_xc, img_yc)\n",
    "_,     img_r = diskwarp.fmodule.interpolate_grid(X, Y, Z, ri.T, img_xc, img_yc)"
   ]
  },
  {
   "cell_type": "markdown",
   "id": "3741f2a5-7768-4c47-b355-c8076977873a",
   "metadata": {},
   "source": [
    "Get rid of the values outside of the domain"
   ]
  },
  {
   "cell_type": "code",
   "execution_count": null,
   "id": "f54a254e-fade-4542-ba61-b89d92544834",
   "metadata": {},
   "outputs": [],
   "source": [
    "img_v[img_v==img_v[0,0]] = np.nan\n",
    "img_r[img_r==img_r[0,0]] = np.nan"
   ]
  },
  {
   "cell_type": "code",
   "execution_count": null,
   "id": "8747dd46-6cf2-42af-a607-cd1e3a4cc40d",
   "metadata": {},
   "outputs": [],
   "source": [
    "np.sin(np.deg2rad(30+45))"
   ]
  },
  {
   "cell_type": "code",
   "execution_count": null,
   "id": "0253df0a-a862-4371-93b9-9522f0d6ea22",
   "metadata": {
    "tags": []
   },
   "outputs": [],
   "source": [
    "fig, axs = plt.subplots(1, 3, figsize=(10,4), gridspec_kw={'width_ratios': [20, 20, 1]})\n",
    "axs[1].sharex(axs[0])\n",
    "axs[1].sharey(axs[0])\n",
    "\n",
    "c1 = axs[0].contour(img_xc, img_yc, img_r, 20, colors='k', linewidths=.5)\n",
    "c2 = axs[0].contourf(img_xc, img_yc, img_r, 50, cmap='RdBu')\n",
    "surf = axs[1].pcolormesh(img_xi, img_yi, img_v, cmap='RdBu', vmax=-1, vmin=1)\n",
    "\n",
    "fig.colorbar(surf, cax=axs[2])\n",
    "\n",
    "axs[0].set_title('radius')\n",
    "axs[1].set_title('radial velocity')\n",
    "\n",
    "for ax in axs[:2]:\n",
    "    ax.set_xlim(-150, 150)\n",
    "    ax.set_ylim(-150, 150)\n",
    "    ax.set_xlabel('x')\n",
    "    ax.set_ylabel('y')\n",
    "    ax.set_aspect(1)"
   ]
  },
  {
   "cell_type": "code",
   "execution_count": null,
   "id": "78196e05",
   "metadata": {},
   "outputs": [],
   "source": [
    "fig.savefig('warp.pdf', transparent=True, bbox_inches='tight')"
   ]
  }
 ],
 "metadata": {
  "kernelspec": {
   "display_name": "Python 3 (ipykernel)",
   "language": "python",
   "name": "python3"
  },
  "language_info": {
   "codemirror_mode": {
    "name": "ipython",
    "version": 3
   },
   "file_extension": ".py",
   "mimetype": "text/x-python",
   "name": "python",
   "nbconvert_exporter": "python",
   "pygments_lexer": "ipython3",
   "version": "3.9.7"
  }
 },
 "nbformat": 4,
 "nbformat_minor": 5
}
