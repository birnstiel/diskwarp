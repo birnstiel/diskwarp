{
 "cells": [
  {
   "cell_type": "markdown",
   "id": "19709038-e9f9-40d0-b4e2-d35fbddf63de",
   "metadata": {
    "tags": []
   },
   "source": [
    "# Warp a disk"
   ]
  },
  {
   "cell_type": "code",
   "execution_count": null,
   "id": "77912ac2-006a-4a14-ab02-f8f03b1135cd",
   "metadata": {
    "tags": []
   },
   "outputs": [],
   "source": [
    "import matplotlib.pyplot as plt\n",
    "from matplotlib.colors import Normalize\n",
    "import numpy as np\n",
    "from tqdm.auto import tqdm\n",
    "\n",
    "import diskwarp\n",
    "from diskwarp import helper\n",
    "\n",
    "import astropy.constants as c\n",
    "import astropy.units as u\n",
    "\n",
    "au = c.au.cgs.value\n",
    "year = (1. * u.year).cgs\n",
    "\n",
    "%matplotlib widget\n",
    "%config InlineBackend.figure_format = 'retina'"
   ]
  },
  {
   "cell_type": "markdown",
   "id": "3ad33da5",
   "metadata": {},
   "source": [
    "## General Definitions of disk surface and warp parameters"
   ]
  },
  {
   "cell_type": "markdown",
   "id": "b46e51b4",
   "metadata": {},
   "source": [
    "Calculate the interfaces and cell centers of the disk surface"
   ]
  },
  {
   "cell_type": "code",
   "execution_count": null,
   "id": "855f55f5-48ce-4a63-a014-5f06a5e64a98",
   "metadata": {},
   "outputs": [],
   "source": [
    "r_i = np.linspace(0.1, 100, 201) * au\n",
    "r_c = 0.5 * (r_i[1:] + r_i[:-1])"
   ]
  },
  {
   "cell_type": "code",
   "execution_count": null,
   "id": "a443a200-188a-470c-a081-1bcfff3a5278",
   "metadata": {},
   "outputs": [],
   "source": [
    "M_star = c.M_sun.cgs.value"
   ]
  },
  {
   "cell_type": "code",
   "execution_count": null,
   "id": "a29ad2cd",
   "metadata": {},
   "outputs": [],
   "source": [
    "surf     = helper.get_surface(r_i, nphi=100, z0=0.03 * au, r0=au, r_taper=150 * au, q_taper=2)\n",
    "p0_i     = surf['points_i']\n",
    "p0_c     = surf['points_c']\n",
    "ri       = surf['ri']\n",
    "rc       = surf['rc']\n",
    "phic     = surf['phic']\n",
    "phii     = surf['phii']\n",
    "nr, nphi = p0_c.shape[:-1]"
   ]
  },
  {
   "cell_type": "code",
   "execution_count": null,
   "id": "4257ecfe-e10a-4456-ba83-71db8270c9c1",
   "metadata": {},
   "outputs": [],
   "source": [
    "f, ax = plt.subplots()\n",
    "ax.plot(rc[:, 0] / au, p0_c[:, 0, -1] / rc[:, 0])"
   ]
  },
  {
   "cell_type": "markdown",
   "id": "5876ff2e-9856-4c59-b11d-f0e8a7f5d518",
   "metadata": {},
   "source": [
    "Define the warp (inclination for each ring): logistic function from $i=0$ outside transitioning to `warp_max` at radius `r0` over a transition width of `dr`."
   ]
  },
  {
   "cell_type": "code",
   "execution_count": null,
   "id": "7bb00a6e-fbaa-44ed-aad5-79c786f33a22",
   "metadata": {},
   "outputs": [],
   "source": [
    "warp_c = helper.warp(r_c, i_in=45, i_out=20.0, r0=75. * au, dr=10.0 * au)\n",
    "warp_i = helper.warp(r_i, i_in=45, i_out=20.0, r0=75. * au, dr=10.0 * au)"
   ]
  },
  {
   "cell_type": "markdown",
   "id": "75a30a4f-efd3-4871-9e48-7a85f6f9d61b",
   "metadata": {},
   "source": [
    "Define each radius' twist"
   ]
  },
  {
   "cell_type": "code",
   "execution_count": null,
   "id": "6f303e2d-2d17-4327-b3ee-87f2c3386d9c",
   "metadata": {},
   "outputs": [],
   "source": [
    "twist_i = helper.twist(r_i, PA_in=20.0, PA_out=0., r0=75. * au, dr=10.0 * au)\n",
    "twist_c = helper.twist(r_c, PA_in=20.0, PA_out=0., r0=75. * au, dr=10.0 * au)"
   ]
  },
  {
   "cell_type": "markdown",
   "id": "b2b2b108-be60-4c76-bab3-edbcd194136f",
   "metadata": {},
   "source": [
    "Calculate the velocities of all centers and edges: we assume perfect keplerian rotation, so\n",
    "$v_\\phi \\propto r^{-1/2} \\propto \\left(x^2 + y^2\\right)^{-1/4}$\n",
    "\n",
    "For testing, we might take the radial gradient out and just set $v_\\phi = 1$.\n",
    "\n",
    "Here, `v0_c` and `v0_i` contain the x-, y-, and z-component of the velocity."
   ]
  },
  {
   "cell_type": "code",
   "execution_count": null,
   "id": "2b04e179-f61d-49cc-90ec-ce1caca7b638",
   "metadata": {},
   "outputs": [],
   "source": [
    "_rc = np.sqrt(p0_c[:, :, 0]**2 + p0_c[:, :, 1]**2)\n",
    "_ri = np.sqrt(p0_i[:, :, 0]**2 + p0_i[:, :, 1]**2)\n",
    "vk_c = np.sqrt(c.G.cgs.value * M_star / _rc)\n",
    "vk_i = np.sqrt(c.G.cgs.value * M_star / _ri)\n",
    "\n",
    "#vk_c = 0.0 * vk_c + 1.0  ##### make it uniform ######\n",
    "#vk_i = 0.0 * vk_i + 1.0  ##### make it uniform ######"
   ]
  },
  {
   "cell_type": "code",
   "execution_count": null,
   "id": "41789bc9-3123-4d4f-9752-024a0d2c0585",
   "metadata": {},
   "outputs": [],
   "source": [
    "v0_c = vk_c[None, :, :] * np.array([-np.sin(phic), np.cos(phic), np.zeros_like(phic)])\n",
    "v0_i = vk_i[None, :, :] * np.array([-np.sin(phii), np.cos(phii), np.zeros_like(phii)])\n",
    "\n",
    "v0_c = np.moveaxis(v0_c, 0, 2)\n",
    "v0_i = np.moveaxis(v0_i, 0, 2)"
   ]
  },
  {
   "cell_type": "markdown",
   "id": "5867325c-7c03-4192-a422-256852382aa6",
   "metadata": {},
   "source": [
    "## Apply the warp/twist"
   ]
  },
  {
   "cell_type": "code",
   "execution_count": null,
   "id": "8a968a55-b2df-423c-a8b7-6ca7bf4e9042",
   "metadata": {},
   "outputs": [],
   "source": [
    "p1_c = diskwarp.fmodule.apply_matrix2d(p0_c, warp_c, twist_c)\n",
    "v1_c = diskwarp.fmodule.apply_matrix2d(v0_c, warp_c, twist_c)\n",
    "p1_i = diskwarp.fmodule.apply_matrix2d(p0_i, warp_i, twist_i)\n",
    "v1_i = diskwarp.fmodule.apply_matrix2d(v0_i, warp_i, twist_i)"
   ]
  },
  {
   "cell_type": "code",
   "execution_count": null,
   "id": "30819802-2c14-4e1d-8eaf-5b45c4e0f00f",
   "metadata": {},
   "outputs": [],
   "source": [
    "ir = np.array([50, 75, 100, 125, 150])\n",
    "s_phi = 4\n",
    "\n",
    "scale = 0.2 * r_c[ir] / au / np.sqrt((v1_c[ir, :, :]**2).sum(-1)).mean(-1)\n",
    "arr_1 = np.array([p1_c[ir, ::s_phi, :] / au, p1_c[ir, ::s_phi, :] / au + scale[:, None, None] * v1_c[ir, ::s_phi, :]])"
   ]
  },
  {
   "cell_type": "code",
   "execution_count": null,
   "id": "b68424c4-b61f-4549-972a-d25cb2061050",
   "metadata": {},
   "outputs": [],
   "source": [
    "X, Y, Z = p1_i.T\n",
    "\n",
    "vmax = v1_i.max() * 0.1\n",
    "\n",
    "#C = Normalize()(ri[:, :].T) ## color by radius\n",
    "C = Normalize(vmin=-vmax, vmax=vmax)(v1_i[:, :, -1].T) ## color by vz\n",
    "\n",
    "fig = plt.figure(figsize=(5,5))\n",
    "ax = fig.add_subplot(projection='3d')\n",
    "ax.view_init(90, -90)\n",
    "ax.set_proj_type('ortho')\n",
    "surf = ax.plot_surface(X / au, Y / au, Z / au, facecolors=plt.cm.RdBu(C), shade=False, linewidth=0, alpha=0.9, rstride=2, cstride=2)\n",
    "\n",
    "for _ir in range(arr_1.shape[1]):\n",
    "    for iphi in range(arr_1.shape[2]):\n",
    "        ax.plot3D(*arr_1[:, _ir, iphi, :].T, 'r', lw=1)\n",
    "\n",
    "ax.set_xlim(-r_i[-1] / 1.4 / au, r_i[-1] / 1.4 / au)\n",
    "ax.set_ylim(-r_i[-1] / 1.4 / au, r_i[-1] / 1.4 / au)\n",
    "ax.set_zlim(-r_i[-1] / 1.4 / au, r_i[-1] / 1.4 / au)\n",
    "ax.set_xlabel('x')\n",
    "ax.set_ylabel('y')\n",
    "ax.set_zlabel('z')\n",
    "ax.set_axis_off()"
   ]
  },
  {
   "cell_type": "markdown",
   "id": "a0fb15d3-8790-439d-b300-4931a65e71b0",
   "metadata": {},
   "source": [
    "Make a video"
   ]
  },
  {
   "cell_type": "code",
   "execution_count": null,
   "id": "53ef32e6-97ba-4876-8acc-35e799a1fe8e",
   "metadata": {},
   "outputs": [],
   "source": [
    "from pathlib import Path\n",
    "import subprocess\n",
    "\n",
    "fpath = Path('frames')\n",
    "fpath.mkdir(exist_ok=True)\n",
    "\n",
    "for i in tqdm(np.arange(0, 360)):\n",
    "    ax.view_init(20.33, i)\n",
    "    fig.savefig(fpath / f'frame_{i:03d}.png')\n",
    "\n",
    "p = subprocess.getoutput('ffmpeg -y -framerate 30 -i frames/frame_%03d.png -c:v libx264 -crf 23 -pix_fmt yuv420p video.mp4')"
   ]
  },
  {
   "cell_type": "code",
   "execution_count": null,
   "id": "22bd8481-f4b1-477b-bd23-f6fe32d40270",
   "metadata": {},
   "outputs": [],
   "source": [
    "from IPython.display import Video\n",
    "Video('video.mp4', width=500, height=500, html_attributes='loop controls autoplay') "
   ]
  },
  {
   "cell_type": "markdown",
   "id": "f46fa5ff-5ff7-472a-b8f9-9c6f9f825e26",
   "metadata": {},
   "source": [
    "## Now interpolate on sky plane"
   ]
  },
  {
   "cell_type": "code",
   "execution_count": null,
   "id": "4b76fe92-b902-431b-ac3c-c9eb32c787a4",
   "metadata": {},
   "outputs": [],
   "source": [
    "_gx = np.linspace(-r_i[-1], r_i[-1], 200)\n",
    "_gy = np.linspace(-r_i[-1], r_i[-1], 210)\n",
    "img_xi, img_yi = np.meshgrid(_gx, _gy, indexing='ij')\n",
    "img_xc = 0.5 * (img_xi[1:, 1:] + img_xi[:-1, 1:])\n",
    "img_yc = 0.5 * (img_yi[1:, 1:] + img_yi[1:, :-1])"
   ]
  },
  {
   "cell_type": "code",
   "execution_count": null,
   "id": "5b144266-3137-4f5a-bb80-763902a8e6f7",
   "metadata": {},
   "outputs": [],
   "source": [
    "X, Y, Z = p1_i.T\n",
    "vxi, vyi, vzi = v1_i.T\n",
    "\n",
    "values = np.stack((vzi, ri.T)).transpose(1,2,0)\n",
    "\n",
    "img_z, values_interp = diskwarp.fmodule.interpolate_grid(X, Y, Z, values, img_xc, img_yc)\n",
    "img_v = values_interp[:, :, 0]\n",
    "img_r = values_interp[:, :, 1]"
   ]
  },
  {
   "cell_type": "markdown",
   "id": "3741f2a5-7768-4c47-b355-c8076977873a",
   "metadata": {},
   "source": [
    "Get rid of the values outside of the domain"
   ]
  },
  {
   "cell_type": "code",
   "execution_count": null,
   "id": "f54a254e-fade-4542-ba61-b89d92544834",
   "metadata": {},
   "outputs": [],
   "source": [
    "img_v[img_v==img_v[0,0]] = np.nan\n",
    "img_r[img_r==img_r[0,0]] = np.nan"
   ]
  },
  {
   "cell_type": "code",
   "execution_count": null,
   "id": "1ce98614-7b6e-47ea-be41-8a07e766968b",
   "metadata": {},
   "outputs": [],
   "source": [
    "%matplotlib inline"
   ]
  },
  {
   "cell_type": "code",
   "execution_count": null,
   "id": "0253df0a-a862-4371-93b9-9522f0d6ea22",
   "metadata": {
    "tags": []
   },
   "outputs": [],
   "source": [
    "fig, axs = plt.subplots(1, 3, figsize=(10,4), gridspec_kw={'width_ratios': [20, 20, 1]})\n",
    "axs[1].sharex(axs[0])\n",
    "axs[1].sharey(axs[0])\n",
    "\n",
    "c1 = axs[0].contour(img_xc / au, img_yc/ au, img_r / au, 20, colors='k', linewidths=.5)\n",
    "c2 = axs[0].contourf(img_xc/ au, img_yc/ au, img_r / au, 50, cmap='RdBu')\n",
    "\n",
    "surf = axs[1].pcolormesh(img_xi/ au, img_yi/ au, img_v / 1e5, cmap='RdBu', vmin=-10, vmax=10)\n",
    "axs[1].contour(img_xc/ au, img_yc/ au, img_v / 1e5, np.arange(-10, 12, 2.5), colors='k')\n",
    "\n",
    "fig.colorbar(surf, cax=axs[2])\n",
    "\n",
    "axs[0].set_title('radius')\n",
    "axs[1].set_title('radial velocity')\n",
    "\n",
    "for ax in axs[:2]:\n",
    "    ax.set_xlim(-100, 100)\n",
    "    ax.set_ylim(-100, 100)\n",
    "    ax.set_xlabel('x')\n",
    "    ax.set_ylabel('y')\n",
    "    ax.set_aspect(1)"
   ]
  },
  {
   "cell_type": "code",
   "execution_count": null,
   "id": "78196e05",
   "metadata": {},
   "outputs": [],
   "source": [
    "fig.savefig('warp.pdf', transparent=True, bbox_inches='tight')"
   ]
  },
  {
   "cell_type": "markdown",
   "id": "03fbae12-ccd6-4d79-8dc8-b74e35f038a9",
   "metadata": {
    "tags": []
   },
   "source": [
    "## Pyvista"
   ]
  },
  {
   "cell_type": "code",
   "execution_count": null,
   "id": "35d6ec47-1c6d-4960-9acf-bb30ff42773e",
   "metadata": {},
   "outputs": [],
   "source": [
    "import pyvista as pv\n",
    "\n",
    "vpoints = p1_c.reshape(-1, 3)\n",
    "cloud = pv.PolyData(vpoints)\n",
    "surf = cloud.delaunay_2d()\n",
    "\n",
    "surf.save(\"surf.stl\")"
   ]
  },
  {
   "cell_type": "code",
   "execution_count": null,
   "id": "e6fcd516-1561-4fbe-b940-b9cde39b0503",
   "metadata": {},
   "outputs": [],
   "source": [
    "p_full = np.concatenate((p1_c, p1_c[:, 0, :][:, None, :]), axis=1)"
   ]
  },
  {
   "cell_type": "code",
   "execution_count": null,
   "id": "2f3d534e-3ae1-4413-a884-77936829488d",
   "metadata": {},
   "outputs": [],
   "source": [
    "p = pv.Plotter()"
   ]
  },
  {
   "cell_type": "code",
   "execution_count": null,
   "id": "59565650-3fc9-4a85-b38f-61ffb637caab",
   "metadata": {},
   "outputs": [],
   "source": [
    "grid = pv.StructuredGrid(*p1_i.T)\n",
    "s = grid.extract_surface()\n",
    "s.save('surf2.stl')"
   ]
  }
 ],
 "metadata": {
  "kernelspec": {
   "display_name": "Pixi",
   "language": "python",
   "name": "pixi"
  },
  "language_info": {
   "codemirror_mode": {
    "name": "ipython",
    "version": 3
   },
   "file_extension": ".py",
   "mimetype": "text/x-python",
   "name": "python",
   "nbconvert_exporter": "python",
   "pygments_lexer": "ipython3",
   "version": "3.12.10"
  },
  "vscode": {
   "interpreter": {
    "hash": "bccf082f898b2356c8628c9441a85af51350700d2f5e39f1a029accc41e42a3d"
   }
  }
 },
 "nbformat": 4,
 "nbformat_minor": 5
}
