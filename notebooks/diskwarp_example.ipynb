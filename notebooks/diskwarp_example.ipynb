{
 "cells": [
  {
   "cell_type": "markdown",
   "id": "19709038-e9f9-40d0-b4e2-d35fbddf63de",
   "metadata": {
    "tags": []
   },
   "source": [
    "# Warp a disk"
   ]
  },
  {
   "cell_type": "code",
   "execution_count": null,
   "id": "77912ac2-006a-4a14-ab02-f8f03b1135cd",
   "metadata": {
    "tags": []
   },
   "outputs": [],
   "source": [
    "import matplotlib.pyplot as plt\n",
    "from matplotlib.colors import Normalize\n",
    "import numpy as np\n",
    "\n",
    "import diskwarp\n",
    "from diskwarp import helper\n",
    "\n",
    "%matplotlib widget\n",
    "%config InlineBackend.figure_format = 'retina'"
   ]
  },
  {
   "cell_type": "markdown",
   "id": "3ad33da5",
   "metadata": {},
   "source": [
    "## General Definitions of disk surface and warp parameters"
   ]
  },
  {
   "cell_type": "markdown",
   "id": "b46e51b4",
   "metadata": {},
   "source": [
    "Calculate the interfaces and cell centers of the disk surface"
   ]
  },
  {
   "cell_type": "code",
   "execution_count": null,
   "id": "855f55f5-48ce-4a63-a014-5f06a5e64a98",
   "metadata": {},
   "outputs": [],
   "source": [
    "r_i = np.linspace(0.1, 150, 201)\n",
    "r_c = 0.5 * (r_i[1:] + r_i[:-1])"
   ]
  },
  {
   "cell_type": "code",
   "execution_count": null,
   "id": "a29ad2cd",
   "metadata": {},
   "outputs": [],
   "source": [
    "surf     = helper.get_surface(r_i)\n",
    "p0_i     = surf['points_i']\n",
    "p0_c     = surf['points_c']\n",
    "ri       = surf['ri']\n",
    "rc       = surf['rc']\n",
    "phic     = surf['phic']\n",
    "phii     = surf['phii']\n",
    "nr, nphi = p0_c.shape[:-1]"
   ]
  },
  {
   "cell_type": "markdown",
   "id": "5876ff2e-9856-4c59-b11d-f0e8a7f5d518",
   "metadata": {},
   "source": [
    "Define the warp (inclination for each ring): logistic function from $i=0$ outside transitioning to `warp_max` at radius `r0` over a transition width of `dr`."
   ]
  },
  {
   "cell_type": "code",
   "execution_count": null,
   "id": "7bb00a6e-fbaa-44ed-aad5-79c786f33a22",
   "metadata": {},
   "outputs": [],
   "source": [
    "warp_c = helper.warp(r_c, i_in=60)\n",
    "warp_i = helper.warp(r_i, i_in=60)"
   ]
  },
  {
   "cell_type": "markdown",
   "id": "75a30a4f-efd3-4871-9e48-7a85f6f9d61b",
   "metadata": {},
   "source": [
    "Define each radius' twist"
   ]
  },
  {
   "cell_type": "code",
   "execution_count": null,
   "id": "6f303e2d-2d17-4327-b3ee-87f2c3386d9c",
   "metadata": {},
   "outputs": [],
   "source": [
    "twist_i = helper.twist(r_i, phi=45.0)\n",
    "twist_c = helper.twist(r_c, phi=45.0)"
   ]
  },
  {
   "cell_type": "markdown",
   "id": "b2b2b108-be60-4c76-bab3-edbcd194136f",
   "metadata": {},
   "source": [
    "Calculate the velocities of all centers and edges"
   ]
  },
  {
   "cell_type": "code",
   "execution_count": null,
   "id": "41789bc9-3123-4d4f-9752-024a0d2c0585",
   "metadata": {},
   "outputs": [],
   "source": [
    "v0_c = (p0_c[:, :, 0]**2 + p0_c[:, :, 1]**2)**-0.25\n",
    "v0_c = v0_c[None, :, :] * np.array([-np.sin(phic), np.cos(phic), np.zeros_like(phic)])\n",
    "v0_c = np.moveaxis(v0_c, 0, 2)\n",
    "\n",
    "v0_i = (p0_i[:, :, 0]**2 + p0_i[:, :, 1]**2)**-0.25\n",
    "v0_i = v0_i[None, :, :] * np.array([-np.sin(phii), np.cos(phii), np.zeros_like(phii)])\n",
    "v0_i = np.moveaxis(v0_i, 0, 2)"
   ]
  },
  {
   "cell_type": "markdown",
   "id": "3a788ce2",
   "metadata": {},
   "source": [
    "define the inclination of the observer as rotation around x"
   ]
  },
  {
   "cell_type": "code",
   "execution_count": null,
   "id": "4c88aa46",
   "metadata": {},
   "outputs": [],
   "source": [
    "inc_obs = np.deg2rad(80.)\n",
    "PA_obs  = np.deg2rad(0)"
   ]
  },
  {
   "cell_type": "markdown",
   "id": "5867325c-7c03-4192-a422-256852382aa6",
   "metadata": {},
   "source": [
    "## Apply the warp/twist"
   ]
  },
  {
   "cell_type": "code",
   "execution_count": null,
   "id": "8a968a55-b2df-423c-a8b7-6ca7bf4e9042",
   "metadata": {},
   "outputs": [],
   "source": [
    "p1_c = diskwarp.fmodule.apply_matrix2d(p0_c, warp_c, twist_c, inc_obs, PA_obs)\n",
    "v1_c = diskwarp.fmodule.apply_matrix2d(v0_c, warp_c, twist_c, inc_obs, PA_obs)\n",
    "p1_i = diskwarp.fmodule.apply_matrix2d(p0_i, warp_i, twist_i, inc_obs, PA_obs)\n",
    "v1_i = diskwarp.fmodule.apply_matrix2d(v0_i, warp_i, twist_i, inc_obs, PA_obs)"
   ]
  },
  {
   "cell_type": "code",
   "execution_count": null,
   "id": "b68424c4-b61f-4549-972a-d25cb2061050",
   "metadata": {},
   "outputs": [],
   "source": [
    "X, Y, Z = p1_i.T\n",
    "\n",
    "C = Normalize()(ri[:, :].T)\n",
    "\n",
    "fig = plt.figure(figsize=(5,5))\n",
    "ax = fig.add_subplot(projection='3d')\n",
    "ax.view_init(90, -90)\n",
    "surf = ax.plot_surface(X, Y, Z, facecolors=plt.cm.RdBu(C), shade=False, linewidth=0)\n",
    "ax.set_xlim(-r_i[-1], r_i[-1])\n",
    "ax.set_ylim(-r_i[-1], r_i[-1])\n",
    "ax.set_zlim(-r_i[-1], r_i[-1])\n",
    "ax.set_xlabel('x')\n",
    "ax.set_ylabel('y')\n",
    "ax.set_zlabel('z')"
   ]
  },
  {
   "cell_type": "markdown",
   "id": "f46fa5ff-5ff7-472a-b8f9-9c6f9f825e26",
   "metadata": {},
   "source": [
    "## Now interpolate on sky plane"
   ]
  },
  {
   "cell_type": "code",
   "execution_count": null,
   "id": "4b76fe92-b902-431b-ac3c-c9eb32c787a4",
   "metadata": {},
   "outputs": [],
   "source": [
    "_gx = np.linspace(-r_i[-1], r_i[-1], 200)\n",
    "_gy = np.linspace(-r_i[-1], r_i[-1], 210)\n",
    "img_xi, img_yi = np.meshgrid(_gx, _gy, indexing='ij')\n",
    "img_xc = 0.5 * (img_xi[1:, 1:] + img_xi[:-1, 1:])\n",
    "img_yc = 0.5 * (img_yi[1:, 1:] + img_yi[1:, :-1])"
   ]
  },
  {
   "cell_type": "code",
   "execution_count": null,
   "id": "5b144266-3137-4f5a-bb80-763902a8e6f7",
   "metadata": {},
   "outputs": [],
   "source": [
    "X, Y, Z = p1_i.T\n",
    "vxi, vyi, vzi = v1_i.T\n",
    "img_z, img_v = diskwarp.fmodule.interpolate_grid(X, Y, Z, vzi, img_xc, img_yc)\n",
    "_,     img_r = diskwarp.fmodule.interpolate_grid(X, Y, Z, ri.T, img_xc, img_yc)"
   ]
  },
  {
   "cell_type": "markdown",
   "id": "3741f2a5-7768-4c47-b355-c8076977873a",
   "metadata": {},
   "source": [
    "Get rid of the values outside of the domain"
   ]
  },
  {
   "cell_type": "code",
   "execution_count": null,
   "id": "f54a254e-fade-4542-ba61-b89d92544834",
   "metadata": {},
   "outputs": [],
   "source": [
    "img_v[img_v==img_v[0,0]] = np.nan\n",
    "img_r[img_r==img_r[0,0]] = np.nan"
   ]
  },
  {
   "cell_type": "code",
   "execution_count": null,
   "id": "744d74e0-2fbb-4218-9f28-345bc1652d32",
   "metadata": {},
   "outputs": [],
   "source": [
    "C = Normalize(vmin=0, vmax=150)(rc)\n",
    "\n",
    "fig = plt.figure(figsize=(5,5))\n",
    "ax = fig.add_subplot(projection='3d')\n",
    "surf = ax.plot_surface(X, Y, Z, facecolors=plt.cm.RdBu(C.T), linewidth=0, shade=False)\n",
    "ax.set_xlim(-r_i[-1], r_i[-1])\n",
    "ax.set_ylim(-r_i[-1], r_i[-1])\n",
    "ax.set_zlim(-r_i[-1], r_i[-1])\n",
    "ax.set_xlabel('x')\n",
    "ax.set_ylabel('y')\n",
    "ax.set_zlabel('z')\n",
    "ax.view_init(90, -90)"
   ]
  },
  {
   "cell_type": "code",
   "execution_count": null,
   "id": "9fd5fb72-9ccb-4700-af7f-dc3989c7b63f",
   "metadata": {
    "tags": []
   },
   "outputs": [],
   "source": [
    "fig = plt.figure(figsize=(5,5))\n",
    "ax = fig.add_subplot()\n",
    "surf = ax.pcolormesh(img_xi, img_yi, img_v, cmap='RdBu')\n",
    "ax.set_xlim(-150, 150)\n",
    "ax.set_ylim(-150, 150)\n",
    "ax.set_xlabel('x')\n",
    "ax.set_ylabel('y')"
   ]
  },
  {
   "cell_type": "code",
   "execution_count": null,
   "id": "d6a2ca6e-fe3c-4328-9107-8a50ba4b21b3",
   "metadata": {
    "tags": []
   },
   "outputs": [],
   "source": [
    "fig = plt.figure(figsize=(5,5))\n",
    "ax = fig.add_subplot()\n",
    "surf = ax.pcolormesh(img_xi, img_yi, img_r, cmap='RdBu')\n",
    "ax.set_xlim(-150, 150)\n",
    "ax.set_ylim(-150, 150)\n",
    "ax.set_xlabel('x')\n",
    "ax.set_ylabel('y')"
   ]
  },
  {
   "cell_type": "code",
   "execution_count": null,
   "id": "78196e05",
   "metadata": {},
   "outputs": [],
   "source": [
    "f.savefig('warp.pdf', transparent=True, bbox_inches='tight')"
   ]
  },
  {
   "cell_type": "markdown",
   "id": "03fbae12-ccd6-4d79-8dc8-b74e35f038a9",
   "metadata": {
    "tags": []
   },
   "source": [
    "## Pyvista"
   ]
  },
  {
   "cell_type": "code",
   "execution_count": null,
   "id": "35d6ec47-1c6d-4960-9acf-bb30ff42773e",
   "metadata": {},
   "outputs": [],
   "source": [
    "import pyvista as pv\n",
    "\n",
    "vpoints = p1_c.reshape(-1, 3)\n",
    "cloud = pv.PolyData(vpoints)\n",
    "surf = cloud.delaunay_2d()\n",
    "\n",
    "surf.save(\"surf.stl\")"
   ]
  }
 ],
 "metadata": {
  "kernelspec": {
   "display_name": "Python 3",
   "language": "python",
   "name": "python3"
  },
  "language_info": {
   "codemirror_mode": {
    "name": "ipython",
    "version": 3
   },
   "file_extension": ".py",
   "mimetype": "text/x-python",
   "name": "python",
   "nbconvert_exporter": "python",
   "pygments_lexer": "ipython3",
   "version": "3.8.8"
  }
 },
 "nbformat": 4,
 "nbformat_minor": 5
}
