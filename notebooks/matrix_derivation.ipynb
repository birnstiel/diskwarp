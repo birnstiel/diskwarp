{
 "cells": [
  {
   "cell_type": "markdown",
   "id": "39744044-8b79-41e5-bc55-86f69dc60659",
   "metadata": {},
   "source": [
    "# Sympy derivation of matrix elements"
   ]
  },
  {
   "cell_type": "code",
   "execution_count": null,
   "id": "96abf049-6c12-4775-a02c-79cf09566f13",
   "metadata": {},
   "outputs": [],
   "source": [
    "import sympy as sp"
   ]
  },
  {
   "cell_type": "markdown",
   "id": "145f5f6d-6da2-4a2d-ba60-fdf3899154aa",
   "metadata": {},
   "source": [
    "Define some symbols"
   ]
  },
  {
   "cell_type": "code",
   "execution_count": null,
   "id": "988ec527-906a-44c2-a379-e381af0d4c8a",
   "metadata": {},
   "outputs": [],
   "source": [
    "theta_w, phi_t, PA, inc, azi = sp.symbols('theta_w, phi_t, PA_, inc_, azi_', real=True)\n",
    "x, y, z = sp.symbols('x, y, z', real=True)"
   ]
  },
  {
   "cell_type": "markdown",
   "id": "b5846146-fdc7-45dd-a4b9-70a4cccfe543",
   "metadata": {},
   "source": [
    "Define the rotation matrices."
   ]
  },
  {
   "cell_type": "code",
   "execution_count": null,
   "id": "806eea70-06b0-4761-a7d0-45603d3c22e8",
   "metadata": {},
   "outputs": [],
   "source": [
    "def Rx(angle):\n",
    "    return sp.Matrix([\n",
    "    [1,       0,              0],\n",
    "    [0,       sp.cos(angle), -sp.sin(angle)],\n",
    "    [0,       sp.sin(angle),  sp.cos(angle)],\n",
    "])\n",
    "\n",
    "def Ry(angle):\n",
    "    return sp.Matrix([\n",
    "    [ sp.cos(angle), 0, sp.sin(angle)],\n",
    "    [0,              1, 0],\n",
    "    [-sp.sin(angle), 0, sp.cos(angle)],\n",
    "])\n",
    "\n",
    "def Rz(angle):\n",
    "    return sp.Matrix([\n",
    "    [sp.cos(angle), -sp.sin(angle), 0],\n",
    "    [sp.sin(angle),  sp.cos(angle), 0],\n",
    "    [0,              0,             1],\n",
    "])"
   ]
  },
  {
   "cell_type": "markdown",
   "id": "a9bc5729-900d-4054-bb64-d26dbf8e26c5",
   "metadata": {},
   "source": [
    "Define the initial coordinates $\\vec p_0 = \\begin{pmatrix}\n",
    "x\\\\\n",
    "y\\\\\n",
    "z\n",
    "\\end{pmatrix}$"
   ]
  },
  {
   "cell_type": "code",
   "execution_count": null,
   "id": "a50da1af-bf0e-42a3-a36d-5c323d555507",
   "metadata": {},
   "outputs": [],
   "source": [
    "p0 = sp.Matrix([x, y, z])"
   ]
  },
  {
   "cell_type": "markdown",
   "id": "be40b6e5-40bf-436f-b6b6-26b07fc1c025",
   "metadata": {},
   "source": [
    "We apply the tilting and twisting to the disk coordinates which is a rotation first around $\\vec x$ and then around $\\vec z$"
   ]
  },
  {
   "cell_type": "code",
   "execution_count": null,
   "id": "0bdc31c2-1ab0-430a-9928-3d8545318836",
   "metadata": {},
   "outputs": [],
   "source": [
    "p1 = Rz(phi_t) * Rx(theta_w) * p0"
   ]
  },
  {
   "cell_type": "markdown",
   "id": "2d91b842-08b1-405d-99ba-d62d2e11faee",
   "metadata": {},
   "source": [
    "Next we get the observers view by projecting onto a new coordinate axis that is rotated by `PA`. If `PA` is zero, the observer is looking down onto the disk in negative z direction."
   ]
  },
  {
   "cell_type": "code",
   "execution_count": null,
   "id": "a336ff3a-1b5c-4ee4-ae65-c986f3957b0b",
   "metadata": {},
   "outputs": [],
   "source": [
    "# unrotated base: top view\n",
    "base0 = sp.Matrix([[1, 0, 0],[0, 1, 0], [0, 0, -1]])\n",
    "\n",
    "# inclination of the entire disk\n",
    "R_inc = Rx(inc)\n",
    "\n",
    "# azimuthal rotation of the view\n",
    "R_azi = Ry(azi)\n",
    "\n",
    "# rotate the base\n",
    "R_PA = Rz(PA)\n",
    "base1 = R_PA * base0"
   ]
  },
  {
   "cell_type": "markdown",
   "id": "5bffb26e-1c4b-417a-98ba-7c621bd5907e",
   "metadata": {},
   "source": [
    "now project onto that new base"
   ]
  },
  {
   "cell_type": "code",
   "execution_count": null,
   "id": "76e6c1d6-07a1-4e3b-b4fb-040d32d1169e",
   "metadata": {},
   "outputs": [],
   "source": [
    "p2 = ((R_azi * R_inc * p1).T * base1).T"
   ]
  },
  {
   "cell_type": "markdown",
   "id": "00c3448e-9c4e-4933-b1ac-f3868ce0ddfa",
   "metadata": {},
   "source": [
    "The result is rather messy ..."
   ]
  },
  {
   "cell_type": "code",
   "execution_count": null,
   "id": "e499aa1b-6ed7-429a-a3d0-385d4be0b877",
   "metadata": {},
   "outputs": [],
   "source": [
    "p2"
   ]
  },
  {
   "cell_type": "markdown",
   "id": "1e22a8f8-3b8f-4fd5-b017-4aba53d058c9",
   "metadata": {},
   "source": [
    "... so we rather let `sympy` write the fortran code for us. This is what is put into the `fortran.f90` file."
   ]
  },
  {
   "cell_type": "code",
   "execution_count": null,
   "id": "7ce9324c-dafb-48b5-b112-226d3d8afd5c",
   "metadata": {},
   "outputs": [],
   "source": [
    "from sympy.printing import fcode\n",
    "print(fcode(p2[0], standard=2003, source_format='free'))\n",
    "print('')\n",
    "print(fcode(p2[1], standard=2003, source_format='free'))\n",
    "print('')\n",
    "print(fcode(p2[2], standard=2003, source_format='free'))"
   ]
  }
 ],
 "metadata": {
  "kernelspec": {
   "display_name": "Python 3",
   "language": "python",
   "name": "python3"
  },
  "language_info": {
   "codemirror_mode": {
    "name": "ipython",
    "version": 3
   },
   "file_extension": ".py",
   "mimetype": "text/x-python",
   "name": "python",
   "nbconvert_exporter": "python",
   "pygments_lexer": "ipython3",
   "version": "3.8.8"
  }
 },
 "nbformat": 4,
 "nbformat_minor": 5
}
