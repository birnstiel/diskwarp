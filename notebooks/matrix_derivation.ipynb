{
 "cells": [
  {
   "cell_type": "markdown",
   "id": "39744044-8b79-41e5-bc55-86f69dc60659",
   "metadata": {
    "tags": []
   },
   "source": [
    "# Derivation of matrix elements"
   ]
  },
  {
   "cell_type": "code",
   "execution_count": null,
   "id": "96abf049-6c12-4775-a02c-79cf09566f13",
   "metadata": {
    "tags": []
   },
   "outputs": [],
   "source": [
    "import sympy as sp\n",
    "import numpy as np\n",
    "import matplotlib.pyplot as plt\n",
    "import ipywidgets as w\n",
    "import diskwarp as dw\n",
    "from IPython.display import clear_output, display"
   ]
  },
  {
   "cell_type": "markdown",
   "id": "145f5f6d-6da2-4a2d-ba60-fdf3899154aa",
   "metadata": {
    "tags": [
     "hide"
    ]
   },
   "source": [
    "Define some symbols"
   ]
  },
  {
   "cell_type": "code",
   "execution_count": null,
   "id": "988ec527-906a-44c2-a379-e381af0d4c8a",
   "metadata": {
    "tags": []
   },
   "outputs": [],
   "source": [
    "i_warp, phi_twist, PA_twist, i_obs, PA_obs = sp.symbols('i_warp, \\phi_twist, PA_twist, i_obs, PA_obs', real=True)\n",
    "x, y, z = sp.symbols('x, y, z', real=True)"
   ]
  },
  {
   "cell_type": "markdown",
   "id": "b5846146-fdc7-45dd-a4b9-70a4cccfe543",
   "metadata": {
    "tags": [
     "hide"
    ]
   },
   "source": [
    "Define the rotation matrices."
   ]
  },
  {
   "cell_type": "code",
   "execution_count": null,
   "id": "806eea70-06b0-4761-a7d0-45603d3c22e8",
   "metadata": {
    "tags": []
   },
   "outputs": [],
   "source": [
    "def Rx(angle):\n",
    "    return sp.Matrix([\n",
    "    [1,       0,              0],\n",
    "    [0,       sp.cos(angle), -sp.sin(angle)],\n",
    "    [0,       sp.sin(angle),  sp.cos(angle)],\n",
    "])\n",
    "\n",
    "def Ry(angle):\n",
    "    return sp.Matrix([\n",
    "    [ sp.cos(angle), 0, sp.sin(angle)],\n",
    "    [0,              1, 0],\n",
    "    [-sp.sin(angle), 0, sp.cos(angle)],\n",
    "])\n",
    "\n",
    "def Rz(angle):\n",
    "    return sp.Matrix([\n",
    "    [sp.cos(angle), -sp.sin(angle), 0],\n",
    "    [sp.sin(angle),  sp.cos(angle), 0],\n",
    "    [0,              0,             1],\n",
    "])"
   ]
  },
  {
   "cell_type": "markdown",
   "id": "a9bc5729-900d-4054-bb64-d26dbf8e26c5",
   "metadata": {},
   "source": [
    "Define the initial coordinates $\\vec p_0 = \\begin{pmatrix}\n",
    "x\\\\\n",
    "y\\\\\n",
    "z\n",
    "\\end{pmatrix}$"
   ]
  },
  {
   "cell_type": "code",
   "execution_count": null,
   "id": "a50da1af-bf0e-42a3-a36d-5c323d555507",
   "metadata": {
    "tags": []
   },
   "outputs": [],
   "source": [
    "p0 = sp.Matrix([x, y, z])"
   ]
  },
  {
   "cell_type": "markdown",
   "id": "be40b6e5-40bf-436f-b6b6-26b07fc1c025",
   "metadata": {
    "tags": []
   },
   "source": [
    "We apply the tilting and twisting to the disk coordinates which is a rotation first around $\\vec x$ and then around $\\vec z$, then the camera orientation\n",
    "\n",
    "$R = R_z(PA_{obs}) \\cdot R_x(i_{obs}) \\cdot R_z(PA_{twist}) \\cdot R_z(\\phi_{twist}) \\cdot R_x(i_{warp})$"
   ]
  },
  {
   "cell_type": "code",
   "execution_count": null,
   "id": "0bdc31c2-1ab0-430a-9928-3d8545318836",
   "metadata": {},
   "outputs": [],
   "source": [
    "R_big = Rz(PA_obs) * Rx(i_obs) * Rz(PA_twist) * Rz(phi_twist) * Rx(i_warp)"
   ]
  },
  {
   "cell_type": "code",
   "execution_count": null,
   "id": "207d59fe-53ac-4d8d-a67c-5b6799ded1a4",
   "metadata": {},
   "outputs": [],
   "source": [
    "p1 =  R_big * p0"
   ]
  },
  {
   "cell_type": "markdown",
   "id": "00c3448e-9c4e-4933-b1ac-f3868ce0ddfa",
   "metadata": {},
   "source": [
    "The result is rather messy ..."
   ]
  },
  {
   "cell_type": "code",
   "execution_count": null,
   "id": "e499aa1b-6ed7-429a-a3d0-385d4be0b877",
   "metadata": {},
   "outputs": [],
   "source": [
    "sp.simplify(p1)"
   ]
  },
  {
   "cell_type": "markdown",
   "id": "1e22a8f8-3b8f-4fd5-b017-4aba53d058c9",
   "metadata": {},
   "source": [
    "... so we rather let `sympy` write the fortran code for us. This is what is put into the `fortran.f90` file."
   ]
  },
  {
   "cell_type": "code",
   "execution_count": null,
   "id": "1253908d-c4b1-4578-928a-002c1cdc77a7",
   "metadata": {},
   "outputs": [],
   "source": [
    "from sympy.printing import fcode\n",
    "code = [s + 'w = ' + fcode(p, standard=2003, source_format='free').replace('*', ' * ').replace('numpy', 'np').replace('\\\\', '') for s, p in zip('xyz', p1)]\n",
    "print('\\n\\n'.join(code))"
   ]
  },
  {
   "cell_type": "markdown",
   "id": "fc14a4db-3449-43c9-abec-757895ba2bca",
   "metadata": {},
   "source": [
    "Or we generate numpy code, which is what we use in this notebook"
   ]
  },
  {
   "cell_type": "code",
   "execution_count": null,
   "id": "fff0305d-616d-432c-a916-072490699701",
   "metadata": {
    "tags": []
   },
   "outputs": [],
   "source": [
    "from sympy.printing.numpy import NumPyPrinter\n",
    "pr = NumPyPrinter()\n",
    "code = [s + '2 = ' + pr.doprint(p).replace('*', ' * ').replace('numpy', 'np').replace('\\\\', '') for s, p in zip('xyz', p1)]\n",
    "\n",
    "print('\\n\\n'.join(code))"
   ]
  },
  {
   "cell_type": "code",
   "execution_count": null,
   "id": "2a3cb79c-83df-4a5c-8f71-c86a0ea6edd0",
   "metadata": {
    "tags": []
   },
   "outputs": [],
   "source": [
    "def warp_points(x, y, z, i_warp = 0.0, phi_twist = 0.0, PA_twist = 0.0, i_obs = 0.0, PA_obs = 0.0):\n",
    "    x2 = x * ((-np.sin(PA_obs) * np.sin(PA_twist) * np.cos(i_obs) + np.cos(PA_obs) * np.cos(PA_twist)) * np.cos(phi_twist) + (-np.sin(PA_obs) * np.cos(PA_twist) * np.cos(i_obs) - np.sin(PA_twist) * np.cos(PA_obs)) * np.sin(phi_twist)) + y * ((-(-np.sin(PA_obs) * np.sin(PA_twist) * np.cos(i_obs) + np.cos(PA_obs) * np.cos(PA_twist)) * np.sin(phi_twist) + (-np.sin(PA_obs) * np.cos(PA_twist) * np.cos(i_obs) - np.sin(PA_twist) * np.cos(PA_obs)) * np.cos(phi_twist)) * np.cos(i_warp) + np.sin(PA_obs) * np.sin(i_obs) * np.sin(i_warp)) + z * (-(-(-np.sin(PA_obs) * np.sin(PA_twist) * np.cos(i_obs) + np.cos(PA_obs) * np.cos(PA_twist)) * np.sin(phi_twist) + (-np.sin(PA_obs) * np.cos(PA_twist) * np.cos(i_obs) - np.sin(PA_twist) * np.cos(PA_obs)) * np.cos(phi_twist)) * np.sin(i_warp) + np.sin(PA_obs) * np.sin(i_obs) * np.cos(i_warp))\n",
    "    y2 = x * ((-np.sin(PA_obs) * np.sin(PA_twist) + np.cos(PA_obs) * np.cos(PA_twist) * np.cos(i_obs)) * np.sin(phi_twist) + (np.sin(PA_obs) * np.cos(PA_twist) + np.sin(PA_twist) * np.cos(PA_obs) * np.cos(i_obs)) * np.cos(phi_twist)) + y * (((-np.sin(PA_obs) * np.sin(PA_twist) + np.cos(PA_obs) * np.cos(PA_twist) * np.cos(i_obs)) * np.cos(phi_twist) - (np.sin(PA_obs) * np.cos(PA_twist) + np.sin(PA_twist) * np.cos(PA_obs) * np.cos(i_obs)) * np.sin(phi_twist)) * np.cos(i_warp) - np.sin(i_obs) * np.sin(i_warp) * np.cos(PA_obs)) + z * (-((-np.sin(PA_obs) * np.sin(PA_twist) + np.cos(PA_obs) * np.cos(PA_twist) * np.cos(i_obs)) * np.cos(phi_twist) - (np.sin(PA_obs) * np.cos(PA_twist) + np.sin(PA_twist) * np.cos(PA_obs) * np.cos(i_obs)) * np.sin(phi_twist)) * np.sin(i_warp) - np.sin(i_obs) * np.cos(PA_obs) * np.cos(i_warp))\n",
    "    z2 = x * (np.sin(PA_twist) * np.sin(i_obs) * np.cos(phi_twist) + np.sin(phi_twist) * np.sin(i_obs) * np.cos(PA_twist)) + y * ((-np.sin(PA_twist) * np.sin(phi_twist) * np.sin(i_obs) + np.sin(i_obs) * np.cos(PA_twist) * np.cos(phi_twist)) * np.cos(i_warp) + np.sin(i_warp) * np.cos(i_obs)) + z * (-(-np.sin(PA_twist) * np.sin(phi_twist) * np.sin(i_obs) + np.sin(i_obs) * np.cos(PA_twist) * np.cos(phi_twist)) * np.sin(i_warp) + np.cos(i_obs) * np.cos(i_warp))\n",
    "    return x2, y2, z2"
   ]
  },
  {
   "cell_type": "markdown",
   "id": "dac9da9e-39a7-47d2-a8d5-053e5c0022f9",
   "metadata": {
    "tags": []
   },
   "source": [
    "# Visualize Warped Disk"
   ]
  },
  {
   "cell_type": "code",
   "execution_count": null,
   "id": "98c109f1-5761-40c4-8061-7506ce443fba",
   "metadata": {
    "tags": []
   },
   "outputs": [],
   "source": [
    "# r and phi grid\n",
    "r = np.linspace(0.5, 1.5, 20)\n",
    "phi = np.linspace(0, 2 * np.pi, 30)\n",
    "\n",
    "# compute cartesian values\n",
    "x = r[:, None] * np.cos(phi)\n",
    "y = r[:, None] * np.sin(phi)\n",
    "z = np.zeros_like(x)\n",
    "\n",
    "# compute warped positions\n",
    "i_warp = dw.helper.warp(r, i_in=0, r0=1, dr=0.5)\n",
    "phi_twist = dw.helper.twist(r, r0=1, dr=0.5)\n",
    "xw, yw, zw = warp_points(x, y, z, i_warp=i_warp[:, None])"
   ]
  },
  {
   "cell_type": "code",
   "execution_count": null,
   "id": "b12e904b-7b9b-424d-b4d1-b4a9124326fc",
   "metadata": {
    "tags": []
   },
   "outputs": [],
   "source": [
    "%matplotlib widget"
   ]
  },
  {
   "cell_type": "code",
   "execution_count": null,
   "id": "632a5854-b30b-4707-99c3-3f1f87502533",
   "metadata": {
    "tags": [
     "size=250"
    ]
   },
   "outputs": [],
   "source": [
    "## Controls"
   ]
  },
  {
   "cell_type": "code",
   "execution_count": null,
   "id": "c1d7161e-1e07-4dcb-abd2-a6e386101721",
   "metadata": {
    "tags": [
     "body"
    ]
   },
   "outputs": [],
   "source": [
    "#### Define Slider\n",
    "\n",
    "slider_warp    = w.FloatSlider(orientation='horizontal', description='Warp:',         value=0.0, min=0.0, max=90.0)\n",
    "slider_twist   = w.FloatSlider(orientation='horizontal', description='Twist:',        value=0.0, min=0.0, max=180.0)\n",
    "slider_PAtwist = w.FloatSlider(orientation='horizontal', description='PA$_{twist}$:', value=0.0, min=0.0, max=360.0)\n",
    "slider_i_obs   = w.FloatSlider(orientation='horizontal', description='i$_{obs}$:',    value=0.0, min=0.0, max=180.0)\n",
    "slider_PA_obs  = w.FloatSlider(orientation='horizontal', description='PA$_{obs}$:',   value=0.0, min=0.0, max=360.0)\n",
    "\n",
    "ui = [\n",
    "    slider_warp,\n",
    "    slider_twist,   \n",
    "    slider_PAtwist, \n",
    "    slider_i_obs,\n",
    "    slider_PA_obs\n",
    "]\n",
    "\n",
    "#slider.layout.margin = '0px 30% 0px 30%'\n",
    "#slider.layout.width = '40%'\n",
    "\n",
    "ui_box = w.VBox(ui)"
   ]
  },
  {
   "cell_type": "code",
   "execution_count": null,
   "id": "23d2fc63-b883-47f2-ae7a-2d770b46a7c3",
   "metadata": {
    "tags": [
     "size=750"
    ]
   },
   "outputs": [],
   "source": [
    "## Figure"
   ]
  },
  {
   "cell_type": "code",
   "execution_count": null,
   "id": "939f4b6f-fbd6-4aa1-a580-0825d3b8c592",
   "metadata": {
    "tags": []
   },
   "outputs": [],
   "source": [
    "plt.ioff();"
   ]
  },
  {
   "cell_type": "code",
   "execution_count": null,
   "id": "3271b7c2-79f8-4c86-b0af-b51721a4d177",
   "metadata": {
    "tags": []
   },
   "outputs": [],
   "source": [
    "fig = plt.figure()\n",
    "ax = fig.add_subplot(111, projection='3d')\n",
    "ax.set_xlim(-1.5, 1.5)\n",
    "ax.set_ylim(-1.5, 1.5)\n",
    "ax.set_zlim(-1.5, 1.5)\n",
    "\n",
    "lines_phi = []\n",
    "for ir in range(x.shape[0]):\n",
    "    lines_phi += plt.plot(xw[ir, :], yw[ir, :], zw[ir, :], lw=1, c='k')\n",
    "    \n",
    "lines_r = []\n",
    "for iphi in range(x.shape[1]):\n",
    "    lines_r += plt.plot(xw[:, iphi], yw[:, iphi], zw[:, iphi], lw=1, c='k')\n",
    "    \n",
    "#### Define Update Function\n",
    "\n",
    "def update(change):\n",
    "    \n",
    "    # compute warped positions\n",
    "    i_warp = dw.helper.warp(r, i_in=slider_warp.value,     r0=1, dr=0.5)\n",
    "    phi_twist = dw.helper.twist(r, phi=slider_twist.value, r0=1, dr=0.5)\n",
    "    \n",
    "    xw, yw, zw = warp_points(\n",
    "        x, y, z,\n",
    "        i_warp=i_warp[:, None],\n",
    "        phi_twist=phi_twist[:, None],\n",
    "        PA_twist=np.deg2rad(slider_PAtwist.value),\n",
    "        i_obs=np.deg2rad(slider_i_obs.value),\n",
    "        PA_obs=np.deg2rad(slider_PA_obs.value)\n",
    "    )\n",
    "    \n",
    "    for ir in range(x.shape[0]):\n",
    "        lines_phi[ir].set_data(xw[ir, :], yw[ir, :])\n",
    "        lines_phi[ir].set_3d_properties(zw[ir, :])\n",
    "\n",
    "    for iphi in range(x.shape[1]):\n",
    "        lines_r[iphi].set_data(xw[:, iphi], yw[:, iphi])\n",
    "        lines_r[iphi].set_3d_properties(zw[:, iphi])\n",
    "    \n",
    "    fig.canvas.draw()\n",
    "    fig.canvas.flush_events()\n",
    "\n",
    "#### Setup output\n",
    "    \n",
    "for slider in ui:\n",
    "    slider.observe(update, names='value')"
   ]
  },
  {
   "cell_type": "code",
   "execution_count": null,
   "id": "a5c5ec5c-a163-4c17-883c-201e6f40f6f8",
   "metadata": {
    "tags": [
     "body"
    ]
   },
   "outputs": [],
   "source": [
    "w.AppLayout(header=w.HTML(value=\"<h1><Warped Disk/h1>\"),\n",
    "          left_sidebar=ui_box,\n",
    "          center=fig.canvas,\n",
    "          right_sidebar=None,\n",
    "          footer=None)"
   ]
  },
  {
   "cell_type": "code",
   "execution_count": null,
   "id": "9ac779f6-78a0-44ba-a68a-63a82252224b",
   "metadata": {
    "tags": [
     "hide"
    ]
   },
   "outputs": [],
   "source": [
    "#!voila --TagRemovePreprocessor.remove_cell_tags='{\"hide\"}' matrix_derivation.ipynb"
   ]
  }
 ],
 "metadata": {
  "kernelspec": {
   "display_name": "Python 3 (ipykernel)",
   "language": "python",
   "name": "python3"
  },
  "language_info": {
   "codemirror_mode": {
    "name": "ipython",
    "version": 3
   },
   "file_extension": ".py",
   "mimetype": "text/x-python",
   "name": "python",
   "nbconvert_exporter": "python",
   "pygments_lexer": "ipython3",
   "version": "3.9.15"
  }
 },
 "nbformat": 4,
 "nbformat_minor": 5
}
